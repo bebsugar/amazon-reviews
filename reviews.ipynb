{
 "cells": [
  {
   "cell_type": "code",
   "execution_count": 1,
   "metadata": {
    "collapsed": true
   },
   "outputs": [],
   "source": [
    "#Rating Product & Sorting Reviews in Amazon"
   ]
  },
  {
   "cell_type": "code",
   "execution_count": 2,
   "outputs": [],
   "source": [
    "import pandas as pd\n",
    "import scipy.stats as st\n",
    "import math\n",
    "import warnings\n",
    "warnings.filterwarnings('ignore')\n",
    "\n",
    "pd.set_option('display.max_rows', None)\n",
    "pd.set_option('display.max_columns', None)\n",
    "pd.set_option('display.width', 500)\n",
    "pd.set_option('display.expand_frame_repr', False)\n",
    "pd.set_option('display.float_format', lambda x: '%.5f' % x)"
   ],
   "metadata": {
    "collapsed": false
   }
  },
  {
   "cell_type": "code",
   "execution_count": 3,
   "outputs": [],
   "source": [
    "df = pd.read_csv('amazon_review.csv')"
   ],
   "metadata": {
    "collapsed": false
   }
  },
  {
   "cell_type": "code",
   "execution_count": 4,
   "outputs": [
    {
     "data": {
      "text/plain": "(4915, 12)"
     },
     "execution_count": 4,
     "metadata": {},
     "output_type": "execute_result"
    }
   ],
   "source": [
    "df.shape"
   ],
   "metadata": {
    "collapsed": false
   }
  },
  {
   "cell_type": "code",
   "execution_count": 5,
   "outputs": [
    {
     "data": {
      "text/plain": "reviewerID         object\nasin               object\nreviewerName       object\nhelpful            object\nreviewText         object\noverall           float64\nsummary            object\nunixReviewTime      int64\nreviewTime         object\nday_diff            int64\nhelpful_yes         int64\ntotal_vote          int64\ndtype: object"
     },
     "execution_count": 5,
     "metadata": {},
     "output_type": "execute_result"
    }
   ],
   "source": [
    "df.dtypes"
   ],
   "metadata": {
    "collapsed": false
   }
  },
  {
   "cell_type": "code",
   "execution_count": 6,
   "outputs": [
    {
     "data": {
      "text/plain": "       reviewerID        asin  reviewerName helpful                                         reviewText  overall                                 summary  unixReviewTime  reviewTime  day_diff  helpful_yes  total_vote\n0  A3SBTW3WS4IQSN  B007WTAJTO           NaN  [0, 0]                                         No issues.  4.00000                              Four Stars      1406073600  2014-07-23       138            0           0\n1  A18K1ODH1I2MVB  B007WTAJTO          0mie  [0, 0]  Purchased this for my device, it worked as adv...  5.00000                           MOAR SPACE!!!      1382659200  2013-10-25       409            0           0\n2  A2FII3I2MBMUIA  B007WTAJTO           1K3  [0, 0]  it works as expected. I should have sprung for...  4.00000               nothing to really say....      1356220800  2012-12-23       715            0           0\n3   A3H99DFEG68SR  B007WTAJTO           1m2  [0, 0]  This think has worked out great.Had a diff. br...  5.00000  Great buy at this price!!!  *** UPDATE      1384992000  2013-11-21       382            0           0\n4  A375ZM4U047O79  B007WTAJTO  2&amp;1/2Men  [0, 0]  Bought it with Retail Packaging, arrived legit...  5.00000                        best deal around      1373673600  2013-07-13       513            0           0",
      "text/html": "<div>\n<style scoped>\n    .dataframe tbody tr th:only-of-type {\n        vertical-align: middle;\n    }\n\n    .dataframe tbody tr th {\n        vertical-align: top;\n    }\n\n    .dataframe thead th {\n        text-align: right;\n    }\n</style>\n<table border=\"1\" class=\"dataframe\">\n  <thead>\n    <tr style=\"text-align: right;\">\n      <th></th>\n      <th>reviewerID</th>\n      <th>asin</th>\n      <th>reviewerName</th>\n      <th>helpful</th>\n      <th>reviewText</th>\n      <th>overall</th>\n      <th>summary</th>\n      <th>unixReviewTime</th>\n      <th>reviewTime</th>\n      <th>day_diff</th>\n      <th>helpful_yes</th>\n      <th>total_vote</th>\n    </tr>\n  </thead>\n  <tbody>\n    <tr>\n      <th>0</th>\n      <td>A3SBTW3WS4IQSN</td>\n      <td>B007WTAJTO</td>\n      <td>NaN</td>\n      <td>[0, 0]</td>\n      <td>No issues.</td>\n      <td>4.00000</td>\n      <td>Four Stars</td>\n      <td>1406073600</td>\n      <td>2014-07-23</td>\n      <td>138</td>\n      <td>0</td>\n      <td>0</td>\n    </tr>\n    <tr>\n      <th>1</th>\n      <td>A18K1ODH1I2MVB</td>\n      <td>B007WTAJTO</td>\n      <td>0mie</td>\n      <td>[0, 0]</td>\n      <td>Purchased this for my device, it worked as adv...</td>\n      <td>5.00000</td>\n      <td>MOAR SPACE!!!</td>\n      <td>1382659200</td>\n      <td>2013-10-25</td>\n      <td>409</td>\n      <td>0</td>\n      <td>0</td>\n    </tr>\n    <tr>\n      <th>2</th>\n      <td>A2FII3I2MBMUIA</td>\n      <td>B007WTAJTO</td>\n      <td>1K3</td>\n      <td>[0, 0]</td>\n      <td>it works as expected. I should have sprung for...</td>\n      <td>4.00000</td>\n      <td>nothing to really say....</td>\n      <td>1356220800</td>\n      <td>2012-12-23</td>\n      <td>715</td>\n      <td>0</td>\n      <td>0</td>\n    </tr>\n    <tr>\n      <th>3</th>\n      <td>A3H99DFEG68SR</td>\n      <td>B007WTAJTO</td>\n      <td>1m2</td>\n      <td>[0, 0]</td>\n      <td>This think has worked out great.Had a diff. br...</td>\n      <td>5.00000</td>\n      <td>Great buy at this price!!!  *** UPDATE</td>\n      <td>1384992000</td>\n      <td>2013-11-21</td>\n      <td>382</td>\n      <td>0</td>\n      <td>0</td>\n    </tr>\n    <tr>\n      <th>4</th>\n      <td>A375ZM4U047O79</td>\n      <td>B007WTAJTO</td>\n      <td>2&amp;amp;1/2Men</td>\n      <td>[0, 0]</td>\n      <td>Bought it with Retail Packaging, arrived legit...</td>\n      <td>5.00000</td>\n      <td>best deal around</td>\n      <td>1373673600</td>\n      <td>2013-07-13</td>\n      <td>513</td>\n      <td>0</td>\n      <td>0</td>\n    </tr>\n  </tbody>\n</table>\n</div>"
     },
     "execution_count": 6,
     "metadata": {},
     "output_type": "execute_result"
    }
   ],
   "source": [
    "df.head()"
   ],
   "metadata": {
    "collapsed": false
   }
  },
  {
   "cell_type": "code",
   "execution_count": 7,
   "outputs": [
    {
     "data": {
      "text/plain": "          reviewerID        asin reviewerName helpful                                         reviewText  overall                        summary  unixReviewTime  reviewTime  day_diff  helpful_yes  total_vote\n4910  A2LBMKXRM5H2W9  B007WTAJTO       ZM \"J\"  [0, 0]  I bought this Sandisk 16GB Class 10 to use wit...  1.00000       Do not waste your money.      1374537600  2013-07-23       503            0           0\n4911   ALGDLRUI1ZPCS  B007WTAJTO           Zo  [0, 0]  Used this for extending the capabilities of my...  5.00000                    Great item!      1377129600  2013-08-22       473            0           0\n4912  A2MR1NI0ENW2AD  B007WTAJTO    Z S Liske  [0, 0]  Great card that is very fast and reliable. It ...  5.00000  Fast and reliable memory card      1396224000  2014-03-31       252            0           0\n4913  A37E6P3DSO9QJD  B007WTAJTO     Z Taylor  [0, 0]  Good amount of space for the stuff I want to d...  5.00000              Great little card      1379289600  2013-09-16       448            0           0\n4914   A8KGFTFQ86IBR  B007WTAJTO          Zza  [0, 0]  I've heard bad things about this 64gb Micro SD...  5.00000                So far so good.      1388620800  2014-02-01       310            0           0",
      "text/html": "<div>\n<style scoped>\n    .dataframe tbody tr th:only-of-type {\n        vertical-align: middle;\n    }\n\n    .dataframe tbody tr th {\n        vertical-align: top;\n    }\n\n    .dataframe thead th {\n        text-align: right;\n    }\n</style>\n<table border=\"1\" class=\"dataframe\">\n  <thead>\n    <tr style=\"text-align: right;\">\n      <th></th>\n      <th>reviewerID</th>\n      <th>asin</th>\n      <th>reviewerName</th>\n      <th>helpful</th>\n      <th>reviewText</th>\n      <th>overall</th>\n      <th>summary</th>\n      <th>unixReviewTime</th>\n      <th>reviewTime</th>\n      <th>day_diff</th>\n      <th>helpful_yes</th>\n      <th>total_vote</th>\n    </tr>\n  </thead>\n  <tbody>\n    <tr>\n      <th>4910</th>\n      <td>A2LBMKXRM5H2W9</td>\n      <td>B007WTAJTO</td>\n      <td>ZM \"J\"</td>\n      <td>[0, 0]</td>\n      <td>I bought this Sandisk 16GB Class 10 to use wit...</td>\n      <td>1.00000</td>\n      <td>Do not waste your money.</td>\n      <td>1374537600</td>\n      <td>2013-07-23</td>\n      <td>503</td>\n      <td>0</td>\n      <td>0</td>\n    </tr>\n    <tr>\n      <th>4911</th>\n      <td>ALGDLRUI1ZPCS</td>\n      <td>B007WTAJTO</td>\n      <td>Zo</td>\n      <td>[0, 0]</td>\n      <td>Used this for extending the capabilities of my...</td>\n      <td>5.00000</td>\n      <td>Great item!</td>\n      <td>1377129600</td>\n      <td>2013-08-22</td>\n      <td>473</td>\n      <td>0</td>\n      <td>0</td>\n    </tr>\n    <tr>\n      <th>4912</th>\n      <td>A2MR1NI0ENW2AD</td>\n      <td>B007WTAJTO</td>\n      <td>Z S Liske</td>\n      <td>[0, 0]</td>\n      <td>Great card that is very fast and reliable. It ...</td>\n      <td>5.00000</td>\n      <td>Fast and reliable memory card</td>\n      <td>1396224000</td>\n      <td>2014-03-31</td>\n      <td>252</td>\n      <td>0</td>\n      <td>0</td>\n    </tr>\n    <tr>\n      <th>4913</th>\n      <td>A37E6P3DSO9QJD</td>\n      <td>B007WTAJTO</td>\n      <td>Z Taylor</td>\n      <td>[0, 0]</td>\n      <td>Good amount of space for the stuff I want to d...</td>\n      <td>5.00000</td>\n      <td>Great little card</td>\n      <td>1379289600</td>\n      <td>2013-09-16</td>\n      <td>448</td>\n      <td>0</td>\n      <td>0</td>\n    </tr>\n    <tr>\n      <th>4914</th>\n      <td>A8KGFTFQ86IBR</td>\n      <td>B007WTAJTO</td>\n      <td>Zza</td>\n      <td>[0, 0]</td>\n      <td>I've heard bad things about this 64gb Micro SD...</td>\n      <td>5.00000</td>\n      <td>So far so good.</td>\n      <td>1388620800</td>\n      <td>2014-02-01</td>\n      <td>310</td>\n      <td>0</td>\n      <td>0</td>\n    </tr>\n  </tbody>\n</table>\n</div>"
     },
     "execution_count": 7,
     "metadata": {},
     "output_type": "execute_result"
    }
   ],
   "source": [
    "df.tail()"
   ],
   "metadata": {
    "collapsed": false
   }
  },
  {
   "cell_type": "code",
   "execution_count": 8,
   "outputs": [
    {
     "data": {
      "text/plain": "          reviewerID        asin                               reviewerName helpful                                         reviewText  overall                                            summary  unixReviewTime  reviewTime  day_diff  helpful_yes  total_vote\n3460   AEHD0G4YJU42K  B007WTAJTO                                      Norma  [0, 0]  I bought this card to expand the memory in my ...  4.00000  San Disk Ultra 32 GB MicroSDHC C 10/UHS1 Memor...      1368057600  2013-09-05       459            0           0\n1909   AE9W6U4NXLD0B  B007WTAJTO  Hakudoushinumber9 \"Hakudoushi numbernine\"  [0, 0]  when i got it it was broken so i had to send i...  5.00000                      really good customer service!      1401753600  2014-03-06       277            0           0\n1717   AAKMPJXPX22Y4  B007WTAJTO                                       Gaby  [0, 0]  Works Ultra great. No complaints. I got the re...  5.00000                                   Ultimately Ultra      1404691200  2014-07-07       154            0           0\n3252  A13A9XV81EQF30  B007WTAJTO                                     MJH-64  [0, 0]  Very good product!!!  Comes with an adaptor to...  5.00000            Works Like it should and Rated the best      1395446400  2014-03-22       261            0           0\n4737  A3TXA107MAOKW7  B007WTAJTO                                  VinnyVino  [0, 0]  Sandisk is the best out there and this ultra i...  5.00000                               Sandisk is the best!      1386720000  2013-11-12       391            0           0",
      "text/html": "<div>\n<style scoped>\n    .dataframe tbody tr th:only-of-type {\n        vertical-align: middle;\n    }\n\n    .dataframe tbody tr th {\n        vertical-align: top;\n    }\n\n    .dataframe thead th {\n        text-align: right;\n    }\n</style>\n<table border=\"1\" class=\"dataframe\">\n  <thead>\n    <tr style=\"text-align: right;\">\n      <th></th>\n      <th>reviewerID</th>\n      <th>asin</th>\n      <th>reviewerName</th>\n      <th>helpful</th>\n      <th>reviewText</th>\n      <th>overall</th>\n      <th>summary</th>\n      <th>unixReviewTime</th>\n      <th>reviewTime</th>\n      <th>day_diff</th>\n      <th>helpful_yes</th>\n      <th>total_vote</th>\n    </tr>\n  </thead>\n  <tbody>\n    <tr>\n      <th>3460</th>\n      <td>AEHD0G4YJU42K</td>\n      <td>B007WTAJTO</td>\n      <td>Norma</td>\n      <td>[0, 0]</td>\n      <td>I bought this card to expand the memory in my ...</td>\n      <td>4.00000</td>\n      <td>San Disk Ultra 32 GB MicroSDHC C 10/UHS1 Memor...</td>\n      <td>1368057600</td>\n      <td>2013-09-05</td>\n      <td>459</td>\n      <td>0</td>\n      <td>0</td>\n    </tr>\n    <tr>\n      <th>1909</th>\n      <td>AE9W6U4NXLD0B</td>\n      <td>B007WTAJTO</td>\n      <td>Hakudoushinumber9 \"Hakudoushi numbernine\"</td>\n      <td>[0, 0]</td>\n      <td>when i got it it was broken so i had to send i...</td>\n      <td>5.00000</td>\n      <td>really good customer service!</td>\n      <td>1401753600</td>\n      <td>2014-03-06</td>\n      <td>277</td>\n      <td>0</td>\n      <td>0</td>\n    </tr>\n    <tr>\n      <th>1717</th>\n      <td>AAKMPJXPX22Y4</td>\n      <td>B007WTAJTO</td>\n      <td>Gaby</td>\n      <td>[0, 0]</td>\n      <td>Works Ultra great. No complaints. I got the re...</td>\n      <td>5.00000</td>\n      <td>Ultimately Ultra</td>\n      <td>1404691200</td>\n      <td>2014-07-07</td>\n      <td>154</td>\n      <td>0</td>\n      <td>0</td>\n    </tr>\n    <tr>\n      <th>3252</th>\n      <td>A13A9XV81EQF30</td>\n      <td>B007WTAJTO</td>\n      <td>MJH-64</td>\n      <td>[0, 0]</td>\n      <td>Very good product!!!  Comes with an adaptor to...</td>\n      <td>5.00000</td>\n      <td>Works Like it should and Rated the best</td>\n      <td>1395446400</td>\n      <td>2014-03-22</td>\n      <td>261</td>\n      <td>0</td>\n      <td>0</td>\n    </tr>\n    <tr>\n      <th>4737</th>\n      <td>A3TXA107MAOKW7</td>\n      <td>B007WTAJTO</td>\n      <td>VinnyVino</td>\n      <td>[0, 0]</td>\n      <td>Sandisk is the best out there and this ultra i...</td>\n      <td>5.00000</td>\n      <td>Sandisk is the best!</td>\n      <td>1386720000</td>\n      <td>2013-11-12</td>\n      <td>391</td>\n      <td>0</td>\n      <td>0</td>\n    </tr>\n  </tbody>\n</table>\n</div>"
     },
     "execution_count": 8,
     "metadata": {},
     "output_type": "execute_result"
    }
   ],
   "source": [
    "df.sample(5)"
   ],
   "metadata": {
    "collapsed": false
   }
  },
  {
   "cell_type": "code",
   "execution_count": 9,
   "outputs": [
    {
     "data": {
      "text/plain": "Index(['reviewerID', 'asin', 'reviewerName', 'helpful', 'reviewText', 'overall', 'summary', 'unixReviewTime', 'reviewTime', 'day_diff', 'helpful_yes', 'total_vote'], dtype='object')"
     },
     "execution_count": 9,
     "metadata": {},
     "output_type": "execute_result"
    }
   ],
   "source": [
    "df.columns"
   ],
   "metadata": {
    "collapsed": false
   }
  },
  {
   "cell_type": "code",
   "execution_count": 10,
   "outputs": [
    {
     "data": {
      "text/plain": "reviewerID        4915\nasin                 1\nreviewerName      4594\nhelpful             42\nreviewText        4912\noverall              5\nsummary           3885\nunixReviewTime     690\nreviewTime         690\nday_diff           690\nhelpful_yes         23\ntotal_vote          26\ndtype: int64"
     },
     "execution_count": 10,
     "metadata": {},
     "output_type": "execute_result"
    }
   ],
   "source": [
    "df.nunique()"
   ],
   "metadata": {
    "collapsed": false
   }
  },
  {
   "cell_type": "code",
   "execution_count": 11,
   "outputs": [
    {
     "data": {
      "text/plain": "reviewerID        0\nasin              0\nreviewerName      1\nhelpful           0\nreviewText        1\noverall           0\nsummary           0\nunixReviewTime    0\nreviewTime        0\nday_diff          0\nhelpful_yes       0\ntotal_vote        0\ndtype: int64"
     },
     "execution_count": 11,
     "metadata": {},
     "output_type": "execute_result"
    }
   ],
   "source": [
    "df.isnull().sum()"
   ],
   "metadata": {
    "collapsed": false
   }
  },
  {
   "cell_type": "code",
   "execution_count": 12,
   "outputs": [
    {
     "name": "stdout",
     "output_type": "stream",
     "text": [
      "                    count             mean            std              min               0%               5%              50%              95%              99%             100%              max\n",
      "overall        4915.00000          4.58759        0.99685          1.00000          1.00000          2.00000          5.00000          5.00000          5.00000          5.00000          5.00000\n",
      "unixReviewTime 4915.00000 1379465001.66836 15818574.32275 1339200000.00000 1339200000.00000 1354492800.00000 1381276800.00000 1403308800.00000 1404950400.00000 1406073600.00000 1406073600.00000\n",
      "day_diff       4915.00000        437.36704      209.43987          1.00000          1.00000         98.00000        431.00000        748.00000        943.00000       1064.00000       1064.00000\n",
      "helpful_yes    4915.00000          1.31109       41.61916          0.00000          0.00000          0.00000          0.00000          1.00000          3.00000       1952.00000       1952.00000\n",
      "total_vote     4915.00000          1.52146       44.12309          0.00000          0.00000          0.00000          0.00000          1.00000          4.00000       2020.00000       2020.00000\n"
     ]
    }
   ],
   "source": [
    "print(df.describe([0, 0.05, 0.50, 0.95, 0.99, 1]).T)"
   ],
   "metadata": {
    "collapsed": false
   }
  },
  {
   "cell_type": "code",
   "execution_count": 13,
   "outputs": [
    {
     "name": "stdout",
     "output_type": "stream",
     "text": [
      "<class 'pandas.core.frame.DataFrame'>\n",
      "RangeIndex: 4915 entries, 0 to 4914\n",
      "Data columns (total 12 columns):\n",
      " #   Column          Non-Null Count  Dtype  \n",
      "---  ------          --------------  -----  \n",
      " 0   reviewerID      4915 non-null   object \n",
      " 1   asin            4915 non-null   object \n",
      " 2   reviewerName    4914 non-null   object \n",
      " 3   helpful         4915 non-null   object \n",
      " 4   reviewText      4914 non-null   object \n",
      " 5   overall         4915 non-null   float64\n",
      " 6   summary         4915 non-null   object \n",
      " 7   unixReviewTime  4915 non-null   int64  \n",
      " 8   reviewTime      4915 non-null   object \n",
      " 9   day_diff        4915 non-null   int64  \n",
      " 10  helpful_yes     4915 non-null   int64  \n",
      " 11  total_vote      4915 non-null   int64  \n",
      "dtypes: float64(1), int64(4), object(7)\n",
      "memory usage: 460.9+ KB\n"
     ]
    }
   ],
   "source": [
    "df.info()"
   ],
   "metadata": {
    "collapsed": false
   }
  },
  {
   "cell_type": "code",
   "execution_count": 14,
   "outputs": [
    {
     "data": {
      "text/plain": "4.587589013224822"
     },
     "execution_count": 14,
     "metadata": {},
     "output_type": "execute_result"
    }
   ],
   "source": [
    "df['overall'].mean()"
   ],
   "metadata": {
    "collapsed": false
   }
  },
  {
   "cell_type": "code",
   "execution_count": 15,
   "outputs": [],
   "source": [
    "df['reviewTime'] = pd.to_datetime(df['reviewTime'])"
   ],
   "metadata": {
    "collapsed": false
   }
  },
  {
   "cell_type": "code",
   "execution_count": 16,
   "outputs": [],
   "source": [
    "today_date = df.reviewTime.max()"
   ],
   "metadata": {
    "collapsed": false
   }
  },
  {
   "cell_type": "code",
   "execution_count": 17,
   "outputs": [],
   "source": [
    "df['diff_time'] = (today_date - df[\"reviewTime\"]).dt.days"
   ],
   "metadata": {
    "collapsed": false
   }
  },
  {
   "cell_type": "code",
   "execution_count": 18,
   "outputs": [
    {
     "data": {
      "text/plain": "       reviewerID        asin  reviewerName helpful                                         reviewText  overall                                 summary  unixReviewTime reviewTime  day_diff  helpful_yes  total_vote  diff_time\n0  A3SBTW3WS4IQSN  B007WTAJTO           NaN  [0, 0]                                         No issues.  4.00000                              Four Stars      1406073600 2014-07-23       138            0           0        137\n1  A18K1ODH1I2MVB  B007WTAJTO          0mie  [0, 0]  Purchased this for my device, it worked as adv...  5.00000                           MOAR SPACE!!!      1382659200 2013-10-25       409            0           0        408\n2  A2FII3I2MBMUIA  B007WTAJTO           1K3  [0, 0]  it works as expected. I should have sprung for...  4.00000               nothing to really say....      1356220800 2012-12-23       715            0           0        714\n3   A3H99DFEG68SR  B007WTAJTO           1m2  [0, 0]  This think has worked out great.Had a diff. br...  5.00000  Great buy at this price!!!  *** UPDATE      1384992000 2013-11-21       382            0           0        381\n4  A375ZM4U047O79  B007WTAJTO  2&amp;1/2Men  [0, 0]  Bought it with Retail Packaging, arrived legit...  5.00000                        best deal around      1373673600 2013-07-13       513            0           0        512",
      "text/html": "<div>\n<style scoped>\n    .dataframe tbody tr th:only-of-type {\n        vertical-align: middle;\n    }\n\n    .dataframe tbody tr th {\n        vertical-align: top;\n    }\n\n    .dataframe thead th {\n        text-align: right;\n    }\n</style>\n<table border=\"1\" class=\"dataframe\">\n  <thead>\n    <tr style=\"text-align: right;\">\n      <th></th>\n      <th>reviewerID</th>\n      <th>asin</th>\n      <th>reviewerName</th>\n      <th>helpful</th>\n      <th>reviewText</th>\n      <th>overall</th>\n      <th>summary</th>\n      <th>unixReviewTime</th>\n      <th>reviewTime</th>\n      <th>day_diff</th>\n      <th>helpful_yes</th>\n      <th>total_vote</th>\n      <th>diff_time</th>\n    </tr>\n  </thead>\n  <tbody>\n    <tr>\n      <th>0</th>\n      <td>A3SBTW3WS4IQSN</td>\n      <td>B007WTAJTO</td>\n      <td>NaN</td>\n      <td>[0, 0]</td>\n      <td>No issues.</td>\n      <td>4.00000</td>\n      <td>Four Stars</td>\n      <td>1406073600</td>\n      <td>2014-07-23</td>\n      <td>138</td>\n      <td>0</td>\n      <td>0</td>\n      <td>137</td>\n    </tr>\n    <tr>\n      <th>1</th>\n      <td>A18K1ODH1I2MVB</td>\n      <td>B007WTAJTO</td>\n      <td>0mie</td>\n      <td>[0, 0]</td>\n      <td>Purchased this for my device, it worked as adv...</td>\n      <td>5.00000</td>\n      <td>MOAR SPACE!!!</td>\n      <td>1382659200</td>\n      <td>2013-10-25</td>\n      <td>409</td>\n      <td>0</td>\n      <td>0</td>\n      <td>408</td>\n    </tr>\n    <tr>\n      <th>2</th>\n      <td>A2FII3I2MBMUIA</td>\n      <td>B007WTAJTO</td>\n      <td>1K3</td>\n      <td>[0, 0]</td>\n      <td>it works as expected. I should have sprung for...</td>\n      <td>4.00000</td>\n      <td>nothing to really say....</td>\n      <td>1356220800</td>\n      <td>2012-12-23</td>\n      <td>715</td>\n      <td>0</td>\n      <td>0</td>\n      <td>714</td>\n    </tr>\n    <tr>\n      <th>3</th>\n      <td>A3H99DFEG68SR</td>\n      <td>B007WTAJTO</td>\n      <td>1m2</td>\n      <td>[0, 0]</td>\n      <td>This think has worked out great.Had a diff. br...</td>\n      <td>5.00000</td>\n      <td>Great buy at this price!!!  *** UPDATE</td>\n      <td>1384992000</td>\n      <td>2013-11-21</td>\n      <td>382</td>\n      <td>0</td>\n      <td>0</td>\n      <td>381</td>\n    </tr>\n    <tr>\n      <th>4</th>\n      <td>A375ZM4U047O79</td>\n      <td>B007WTAJTO</td>\n      <td>2&amp;amp;1/2Men</td>\n      <td>[0, 0]</td>\n      <td>Bought it with Retail Packaging, arrived legit...</td>\n      <td>5.00000</td>\n      <td>best deal around</td>\n      <td>1373673600</td>\n      <td>2013-07-13</td>\n      <td>513</td>\n      <td>0</td>\n      <td>0</td>\n      <td>512</td>\n    </tr>\n  </tbody>\n</table>\n</div>"
     },
     "execution_count": 18,
     "metadata": {},
     "output_type": "execute_result"
    }
   ],
   "source": [
    "df.head()"
   ],
   "metadata": {
    "collapsed": false
   }
  },
  {
   "cell_type": "code",
   "execution_count": 19,
   "outputs": [
    {
     "data": {
      "text/plain": "0.00000      0.00000\n0.10000    166.00000\n0.25000    280.00000\n0.50000    430.00000\n0.75000    600.00000\n0.95000    747.00000\n1.00000   1063.00000\nName: diff_time, dtype: float64"
     },
     "execution_count": 19,
     "metadata": {},
     "output_type": "execute_result"
    }
   ],
   "source": [
    "df['diff_time'].quantile([0, 0.1, 0.25, 0.5, 0.75, 0.95, 1])"
   ],
   "metadata": {
    "collapsed": false
   }
  },
  {
   "cell_type": "code",
   "execution_count": 20,
   "outputs": [],
   "source": [
    "def time_based_weighted_average(dataframe, w1=30, w2=28, w3=26, w4=16):\n",
    "    return dataframe.loc[df[\"diff_time\"] <= 250, \"overall\"].mean() * w1 / 100 + \\\n",
    "           dataframe.loc[(dataframe[\"diff_time\"] > 250) & (dataframe[\"diff_time\"] <= 500), \"overall\"].mean() * w2 / 100 + \\\n",
    "           dataframe.loc[(dataframe[\"diff_time\"] > 500) & (dataframe[\"diff_time\"] <= 750), \"overall\"].mean() * w3 / 100 + \\\n",
    "           dataframe.loc[(dataframe[\"diff_time\"] > 750), \"overall\"].mean() * w4 / 100"
   ],
   "metadata": {
    "collapsed": false
   }
  },
  {
   "cell_type": "code",
   "execution_count": 21,
   "outputs": [
    {
     "data": {
      "text/plain": "4.576037285044267"
     },
     "execution_count": 21,
     "metadata": {},
     "output_type": "execute_result"
    }
   ],
   "source": [
    "time_based_weighted_average(df)"
   ],
   "metadata": {
    "collapsed": false
   }
  },
  {
   "cell_type": "code",
   "execution_count": 22,
   "outputs": [
    {
     "data": {
      "text/plain": "4.684106614017769"
     },
     "execution_count": 22,
     "metadata": {},
     "output_type": "execute_result"
    }
   ],
   "source": [
    "df.loc[df[\"diff_time\"] <= 250, \"overall\"].mean()"
   ],
   "metadata": {
    "collapsed": false
   }
  },
  {
   "cell_type": "code",
   "execution_count": 23,
   "outputs": [
    {
     "data": {
      "text/plain": "4.624681285058643"
     },
     "execution_count": 23,
     "metadata": {},
     "output_type": "execute_result"
    }
   ],
   "source": [
    "df.loc[(df[\"diff_time\"] > 250) & (df[\"diff_time\"] <= 500), \"overall\"].mean()"
   ],
   "metadata": {
    "collapsed": false
   }
  },
  {
   "cell_type": "code",
   "execution_count": 24,
   "outputs": [
    {
     "data": {
      "text/plain": "4.5155607751027595"
     },
     "execution_count": 24,
     "metadata": {},
     "output_type": "execute_result"
    }
   ],
   "source": [
    "df.loc[(df[\"diff_time\"] > 500) & (df[\"diff_time\"] <= 750), \"overall\"].mean()"
   ],
   "metadata": {
    "collapsed": false
   }
  },
  {
   "cell_type": "code",
   "execution_count": 25,
   "outputs": [
    {
     "data": {
      "text/plain": "4.38655462184874"
     },
     "execution_count": 25,
     "metadata": {},
     "output_type": "execute_result"
    }
   ],
   "source": [
    "df.loc[df[\"diff_time\"] > 750, \"overall\"].mean()"
   ],
   "metadata": {
    "collapsed": false
   }
  },
  {
   "cell_type": "code",
   "execution_count": 26,
   "outputs": [],
   "source": [
    "df[\"helpful_no\"] = df[\"total_vote\"] - df[\"helpful_yes\"]"
   ],
   "metadata": {
    "collapsed": false
   }
  },
  {
   "cell_type": "code",
   "execution_count": 27,
   "outputs": [
    {
     "data": {
      "text/plain": "          reviewerID        asin     reviewerName helpful                                         reviewText  overall                                   summary  unixReviewTime reviewTime  day_diff  helpful_yes  total_vote  diff_time  helpful_no\n1770  A3VONQL7YW8UPM  B007WTAJTO      Geoff Ables  [0, 0]  This was a great little memory card for using ...  5.00000  Great for Storing Extra Music and Photos      1388880000 2014-05-01       221            0           0        220           0\n2771  A3A9E9LIEE37E5  B007WTAJTO  Lance Alexander  [0, 0]  I bought a SanDisk SSD for my computer.  It's ...  5.00000                    Just a good product...      1382659200 2013-10-25       409            0           0        408           0\n255   A1OBJYK6JH67AF  B007WTAJTO  Amazon Customer  [0, 0]  No complaints.  Worked in every piece of elect...  5.00000                                   Perfect      1398556800 2014-04-27       225            0           0        224           0\n2669   AUMT0X8K4M296  B007WTAJTO      kevin chung  [0, 0]  Bought this for my Nook HD and it works perfec...  5.00000                       Works as advertised      1389139200 2014-08-01       129            0           0        128           0\n1134  A32EQSG3LNVNYQ  B007WTAJTO           Daniel  [0, 0]  I bought this for my Galaxy S4 to expand its s...  5.00000                             Great SD Card      1392508800 2014-02-16       295            0           0        294           0\n2263  A128TMIL90NMS5  B007WTAJTO            Jerry  [0, 0]  The memory is fine but the adapter that it cam...  4.00000                                I like it.      1359244800 2013-01-27       680            0           0        679           0\n2962   A10W9RI5KC0KR  B007WTAJTO            MarcP  [0, 0]  This  device was bought  for a  Galaxy Tab 10....  5.00000                                     Great      1360195200 2013-07-02       524            0           0        523           0\n2213  A17XFXEZTQ55X8  B007WTAJTO    J. David Kerr  [0, 0]  I placed the SanDisk Ultra 32 GB MicroSDHC C10...  5.00000            San Disk Ultra 32 GB MicroSDHC      1370563200 2013-07-06       520            0           0        519           0\n1854   AKYYVXUCSV126  B007WTAJTO           GrantV  [0, 0]  Does all it should without any notable negativ...  5.00000       Top quality memory for a nice price      1395705600 2014-03-25       258            0           0        257           0\n1734   AWVKQ5LYAC1XV  B007WTAJTO       G. Arteaga  [0, 0]  works well with my hero3 black gopro.its not o...  4.00000      works well with my hero3 black gopro      1379030400 2013-09-13       451            0           0        450           0",
      "text/html": "<div>\n<style scoped>\n    .dataframe tbody tr th:only-of-type {\n        vertical-align: middle;\n    }\n\n    .dataframe tbody tr th {\n        vertical-align: top;\n    }\n\n    .dataframe thead th {\n        text-align: right;\n    }\n</style>\n<table border=\"1\" class=\"dataframe\">\n  <thead>\n    <tr style=\"text-align: right;\">\n      <th></th>\n      <th>reviewerID</th>\n      <th>asin</th>\n      <th>reviewerName</th>\n      <th>helpful</th>\n      <th>reviewText</th>\n      <th>overall</th>\n      <th>summary</th>\n      <th>unixReviewTime</th>\n      <th>reviewTime</th>\n      <th>day_diff</th>\n      <th>helpful_yes</th>\n      <th>total_vote</th>\n      <th>diff_time</th>\n      <th>helpful_no</th>\n    </tr>\n  </thead>\n  <tbody>\n    <tr>\n      <th>1770</th>\n      <td>A3VONQL7YW8UPM</td>\n      <td>B007WTAJTO</td>\n      <td>Geoff Ables</td>\n      <td>[0, 0]</td>\n      <td>This was a great little memory card for using ...</td>\n      <td>5.00000</td>\n      <td>Great for Storing Extra Music and Photos</td>\n      <td>1388880000</td>\n      <td>2014-05-01</td>\n      <td>221</td>\n      <td>0</td>\n      <td>0</td>\n      <td>220</td>\n      <td>0</td>\n    </tr>\n    <tr>\n      <th>2771</th>\n      <td>A3A9E9LIEE37E5</td>\n      <td>B007WTAJTO</td>\n      <td>Lance Alexander</td>\n      <td>[0, 0]</td>\n      <td>I bought a SanDisk SSD for my computer.  It's ...</td>\n      <td>5.00000</td>\n      <td>Just a good product...</td>\n      <td>1382659200</td>\n      <td>2013-10-25</td>\n      <td>409</td>\n      <td>0</td>\n      <td>0</td>\n      <td>408</td>\n      <td>0</td>\n    </tr>\n    <tr>\n      <th>255</th>\n      <td>A1OBJYK6JH67AF</td>\n      <td>B007WTAJTO</td>\n      <td>Amazon Customer</td>\n      <td>[0, 0]</td>\n      <td>No complaints.  Worked in every piece of elect...</td>\n      <td>5.00000</td>\n      <td>Perfect</td>\n      <td>1398556800</td>\n      <td>2014-04-27</td>\n      <td>225</td>\n      <td>0</td>\n      <td>0</td>\n      <td>224</td>\n      <td>0</td>\n    </tr>\n    <tr>\n      <th>2669</th>\n      <td>AUMT0X8K4M296</td>\n      <td>B007WTAJTO</td>\n      <td>kevin chung</td>\n      <td>[0, 0]</td>\n      <td>Bought this for my Nook HD and it works perfec...</td>\n      <td>5.00000</td>\n      <td>Works as advertised</td>\n      <td>1389139200</td>\n      <td>2014-08-01</td>\n      <td>129</td>\n      <td>0</td>\n      <td>0</td>\n      <td>128</td>\n      <td>0</td>\n    </tr>\n    <tr>\n      <th>1134</th>\n      <td>A32EQSG3LNVNYQ</td>\n      <td>B007WTAJTO</td>\n      <td>Daniel</td>\n      <td>[0, 0]</td>\n      <td>I bought this for my Galaxy S4 to expand its s...</td>\n      <td>5.00000</td>\n      <td>Great SD Card</td>\n      <td>1392508800</td>\n      <td>2014-02-16</td>\n      <td>295</td>\n      <td>0</td>\n      <td>0</td>\n      <td>294</td>\n      <td>0</td>\n    </tr>\n    <tr>\n      <th>2263</th>\n      <td>A128TMIL90NMS5</td>\n      <td>B007WTAJTO</td>\n      <td>Jerry</td>\n      <td>[0, 0]</td>\n      <td>The memory is fine but the adapter that it cam...</td>\n      <td>4.00000</td>\n      <td>I like it.</td>\n      <td>1359244800</td>\n      <td>2013-01-27</td>\n      <td>680</td>\n      <td>0</td>\n      <td>0</td>\n      <td>679</td>\n      <td>0</td>\n    </tr>\n    <tr>\n      <th>2962</th>\n      <td>A10W9RI5KC0KR</td>\n      <td>B007WTAJTO</td>\n      <td>MarcP</td>\n      <td>[0, 0]</td>\n      <td>This  device was bought  for a  Galaxy Tab 10....</td>\n      <td>5.00000</td>\n      <td>Great</td>\n      <td>1360195200</td>\n      <td>2013-07-02</td>\n      <td>524</td>\n      <td>0</td>\n      <td>0</td>\n      <td>523</td>\n      <td>0</td>\n    </tr>\n    <tr>\n      <th>2213</th>\n      <td>A17XFXEZTQ55X8</td>\n      <td>B007WTAJTO</td>\n      <td>J. David Kerr</td>\n      <td>[0, 0]</td>\n      <td>I placed the SanDisk Ultra 32 GB MicroSDHC C10...</td>\n      <td>5.00000</td>\n      <td>San Disk Ultra 32 GB MicroSDHC</td>\n      <td>1370563200</td>\n      <td>2013-07-06</td>\n      <td>520</td>\n      <td>0</td>\n      <td>0</td>\n      <td>519</td>\n      <td>0</td>\n    </tr>\n    <tr>\n      <th>1854</th>\n      <td>AKYYVXUCSV126</td>\n      <td>B007WTAJTO</td>\n      <td>GrantV</td>\n      <td>[0, 0]</td>\n      <td>Does all it should without any notable negativ...</td>\n      <td>5.00000</td>\n      <td>Top quality memory for a nice price</td>\n      <td>1395705600</td>\n      <td>2014-03-25</td>\n      <td>258</td>\n      <td>0</td>\n      <td>0</td>\n      <td>257</td>\n      <td>0</td>\n    </tr>\n    <tr>\n      <th>1734</th>\n      <td>AWVKQ5LYAC1XV</td>\n      <td>B007WTAJTO</td>\n      <td>G. Arteaga</td>\n      <td>[0, 0]</td>\n      <td>works well with my hero3 black gopro.its not o...</td>\n      <td>4.00000</td>\n      <td>works well with my hero3 black gopro</td>\n      <td>1379030400</td>\n      <td>2013-09-13</td>\n      <td>451</td>\n      <td>0</td>\n      <td>0</td>\n      <td>450</td>\n      <td>0</td>\n    </tr>\n  </tbody>\n</table>\n</div>"
     },
     "execution_count": 27,
     "metadata": {},
     "output_type": "execute_result"
    }
   ],
   "source": [
    "df.sample(10)"
   ],
   "metadata": {
    "collapsed": false
   }
  },
  {
   "cell_type": "code",
   "execution_count": 28,
   "outputs": [
    {
     "data": {
      "text/plain": "   overall reviewTime  day_diff  helpful_yes  helpful_no  total_vote\n0  4.00000 2014-07-23       138            0           0           0\n1  5.00000 2013-10-25       409            0           0           0\n2  4.00000 2012-12-23       715            0           0           0\n3  5.00000 2013-11-21       382            0           0           0\n4  5.00000 2013-07-13       513            0           0           0",
      "text/html": "<div>\n<style scoped>\n    .dataframe tbody tr th:only-of-type {\n        vertical-align: middle;\n    }\n\n    .dataframe tbody tr th {\n        vertical-align: top;\n    }\n\n    .dataframe thead th {\n        text-align: right;\n    }\n</style>\n<table border=\"1\" class=\"dataframe\">\n  <thead>\n    <tr style=\"text-align: right;\">\n      <th></th>\n      <th>overall</th>\n      <th>reviewTime</th>\n      <th>day_diff</th>\n      <th>helpful_yes</th>\n      <th>helpful_no</th>\n      <th>total_vote</th>\n    </tr>\n  </thead>\n  <tbody>\n    <tr>\n      <th>0</th>\n      <td>4.00000</td>\n      <td>2014-07-23</td>\n      <td>138</td>\n      <td>0</td>\n      <td>0</td>\n      <td>0</td>\n    </tr>\n    <tr>\n      <th>1</th>\n      <td>5.00000</td>\n      <td>2013-10-25</td>\n      <td>409</td>\n      <td>0</td>\n      <td>0</td>\n      <td>0</td>\n    </tr>\n    <tr>\n      <th>2</th>\n      <td>4.00000</td>\n      <td>2012-12-23</td>\n      <td>715</td>\n      <td>0</td>\n      <td>0</td>\n      <td>0</td>\n    </tr>\n    <tr>\n      <th>3</th>\n      <td>5.00000</td>\n      <td>2013-11-21</td>\n      <td>382</td>\n      <td>0</td>\n      <td>0</td>\n      <td>0</td>\n    </tr>\n    <tr>\n      <th>4</th>\n      <td>5.00000</td>\n      <td>2013-07-13</td>\n      <td>513</td>\n      <td>0</td>\n      <td>0</td>\n      <td>0</td>\n    </tr>\n  </tbody>\n</table>\n</div>"
     },
     "execution_count": 28,
     "metadata": {},
     "output_type": "execute_result"
    }
   ],
   "source": [
    "df = df[[\"overall\", \"reviewTime\", \"day_diff\", \"helpful_yes\", \"helpful_no\",\"total_vote\"]]\n",
    "df.head()"
   ],
   "metadata": {
    "collapsed": false
   }
  },
  {
   "cell_type": "code",
   "execution_count": 29,
   "outputs": [],
   "source": [
    "def score_up_down_diff(up, down):\n",
    "    return up - down"
   ],
   "metadata": {
    "collapsed": false
   }
  },
  {
   "cell_type": "code",
   "execution_count": 30,
   "outputs": [],
   "source": [
    "def score_average_rating(up, down):\n",
    "    if up + down == 0:\n",
    "        return 0\n",
    "    return up / (up + down)"
   ],
   "metadata": {
    "collapsed": false
   }
  },
  {
   "cell_type": "code",
   "execution_count": 31,
   "outputs": [],
   "source": [
    "def wilson_lower_bound(up, down, confidence=0.95):\n",
    "    \"\"\"\n",
    "    Wilson Lower Bound Score hesapla\n",
    "\n",
    "    - Bernoulli parametresi p için hesaplanacak güven aralığının alt sınırı WLB skoru olarak kabul edilir.\n",
    "    - Hesaplanacak skor ürün sıralaması için kullanılır.\n",
    "    - Not:\n",
    "    Eğer skorlar 1-5 arasıdaysa 1-3 negatif, 4-5 pozitif olarak işaretlenir ve bernoulli'ye uygun hale getirilebilir.\n",
    "    Bu beraberinde bazı problemleri de getirir. Bu sebeple bayesian average rating yapmak gerekir.\n",
    "\n",
    "    Parameters\n",
    "    ----------\n",
    "    up: int\n",
    "        up count\n",
    "    down: int\n",
    "        down count\n",
    "    confidence: float\n",
    "        confidence\n",
    "\n",
    "    Returns\n",
    "    -------\n",
    "    wilson score: float\n",
    "\n",
    "    \"\"\"\n",
    "    n = up + down\n",
    "    if n == 0:\n",
    "        return 0\n",
    "    z = st.norm.ppf(1 - (1 - confidence) / 2)\n",
    "    phat = 1.0 * up / n\n",
    "    return (phat + z * z / (2 * n) - z * math.sqrt((phat * (1 - phat) + z * z / (4 * n)) / n)) / (1 + z * z / n)"
   ],
   "metadata": {
    "collapsed": false
   }
  },
  {
   "cell_type": "code",
   "execution_count": 32,
   "outputs": [],
   "source": [
    "df[\"score_pos_neg_diff\"] = df.apply(lambda x: score_up_down_diff(x[\"helpful_yes\"], x[\"helpful_no\"]), axis=1)"
   ],
   "metadata": {
    "collapsed": false
   }
  },
  {
   "cell_type": "code",
   "execution_count": 33,
   "outputs": [],
   "source": [
    "df[\"score_average_rating\"] = df.apply(lambda x: score_average_rating(x[\"helpful_yes\"], x[\"helpful_no\"]), axis=1)"
   ],
   "metadata": {
    "collapsed": false
   }
  },
  {
   "cell_type": "code",
   "execution_count": 34,
   "outputs": [],
   "source": [
    "df[\"wilson_lower_bound\"] = df.apply(lambda x: wilson_lower_bound(x[\"helpful_yes\"], x[\"helpful_no\"]), axis=1)"
   ],
   "metadata": {
    "collapsed": false
   }
  },
  {
   "cell_type": "code",
   "execution_count": 35,
   "outputs": [
    {
     "data": {
      "text/plain": "   overall reviewTime  day_diff  helpful_yes  helpful_no  total_vote  score_pos_neg_diff  score_average_rating  wilson_lower_bound\n0  4.00000 2014-07-23       138            0           0           0                   0               0.00000             0.00000\n1  5.00000 2013-10-25       409            0           0           0                   0               0.00000             0.00000\n2  4.00000 2012-12-23       715            0           0           0                   0               0.00000             0.00000\n3  5.00000 2013-11-21       382            0           0           0                   0               0.00000             0.00000\n4  5.00000 2013-07-13       513            0           0           0                   0               0.00000             0.00000",
      "text/html": "<div>\n<style scoped>\n    .dataframe tbody tr th:only-of-type {\n        vertical-align: middle;\n    }\n\n    .dataframe tbody tr th {\n        vertical-align: top;\n    }\n\n    .dataframe thead th {\n        text-align: right;\n    }\n</style>\n<table border=\"1\" class=\"dataframe\">\n  <thead>\n    <tr style=\"text-align: right;\">\n      <th></th>\n      <th>overall</th>\n      <th>reviewTime</th>\n      <th>day_diff</th>\n      <th>helpful_yes</th>\n      <th>helpful_no</th>\n      <th>total_vote</th>\n      <th>score_pos_neg_diff</th>\n      <th>score_average_rating</th>\n      <th>wilson_lower_bound</th>\n    </tr>\n  </thead>\n  <tbody>\n    <tr>\n      <th>0</th>\n      <td>4.00000</td>\n      <td>2014-07-23</td>\n      <td>138</td>\n      <td>0</td>\n      <td>0</td>\n      <td>0</td>\n      <td>0</td>\n      <td>0.00000</td>\n      <td>0.00000</td>\n    </tr>\n    <tr>\n      <th>1</th>\n      <td>5.00000</td>\n      <td>2013-10-25</td>\n      <td>409</td>\n      <td>0</td>\n      <td>0</td>\n      <td>0</td>\n      <td>0</td>\n      <td>0.00000</td>\n      <td>0.00000</td>\n    </tr>\n    <tr>\n      <th>2</th>\n      <td>4.00000</td>\n      <td>2012-12-23</td>\n      <td>715</td>\n      <td>0</td>\n      <td>0</td>\n      <td>0</td>\n      <td>0</td>\n      <td>0.00000</td>\n      <td>0.00000</td>\n    </tr>\n    <tr>\n      <th>3</th>\n      <td>5.00000</td>\n      <td>2013-11-21</td>\n      <td>382</td>\n      <td>0</td>\n      <td>0</td>\n      <td>0</td>\n      <td>0</td>\n      <td>0.00000</td>\n      <td>0.00000</td>\n    </tr>\n    <tr>\n      <th>4</th>\n      <td>5.00000</td>\n      <td>2013-07-13</td>\n      <td>513</td>\n      <td>0</td>\n      <td>0</td>\n      <td>0</td>\n      <td>0</td>\n      <td>0.00000</td>\n      <td>0.00000</td>\n    </tr>\n  </tbody>\n</table>\n</div>"
     },
     "execution_count": 35,
     "metadata": {},
     "output_type": "execute_result"
    }
   ],
   "source": [
    "df.head()"
   ],
   "metadata": {
    "collapsed": false
   }
  },
  {
   "cell_type": "code",
   "execution_count": 36,
   "outputs": [
    {
     "data": {
      "text/plain": "      overall reviewTime  day_diff  helpful_yes  helpful_no  total_vote  score_pos_neg_diff  score_average_rating  wilson_lower_bound\n2031  5.00000 2013-01-05       702         1952          68        2020                1884               0.96634             0.95754\n3449  5.00000 2012-09-26       803         1428          77        1505                1351               0.94884             0.93652\n4212  1.00000 2013-05-08       579         1568         126        1694                1442               0.92562             0.91214\n317   1.00000 2012-02-09      1033          422          73         495                 349               0.85253             0.81858\n4672  5.00000 2014-07-03       158           45           4          49                  41               0.91837             0.80811\n1835  5.00000 2014-02-28       283           60           8          68                  52               0.88235             0.78465\n3981  5.00000 2012-10-22       777          112          27         139                  85               0.80576             0.73214\n3807  3.00000 2013-02-27       649           22           3          25                  19               0.88000             0.70044\n4306  5.00000 2012-09-06       823           51          14          65                  37               0.78462             0.67033\n4596  1.00000 2012-09-22       807           82          27         109                  55               0.75229             0.66359\n315   5.00000 2012-08-13       847           38          10          48                  28               0.79167             0.65741\n1465  4.00000 2014-04-14       238            7           0           7                   7               1.00000             0.64567\n1609  5.00000 2014-03-26       257            7           0           7                   7               1.00000             0.64567\n4302  5.00000 2014-03-21       262           14           2          16                  12               0.87500             0.63977\n4072  5.00000 2012-11-09       759            6           0           6                   6               1.00000             0.60967\n1072  5.00000 2012-05-10       942            5           0           5                   5               1.00000             0.56552\n2583  5.00000 2013-08-06       489            5           0           5                   5               1.00000             0.56552\n121   5.00000 2012-05-09       943            5           0           5                   5               1.00000             0.56552\n1142  5.00000 2014-02-04       307            5           0           5                   5               1.00000             0.56552\n1753  5.00000 2012-10-22       777            5           0           5                   5               1.00000             0.56552",
      "text/html": "<div>\n<style scoped>\n    .dataframe tbody tr th:only-of-type {\n        vertical-align: middle;\n    }\n\n    .dataframe tbody tr th {\n        vertical-align: top;\n    }\n\n    .dataframe thead th {\n        text-align: right;\n    }\n</style>\n<table border=\"1\" class=\"dataframe\">\n  <thead>\n    <tr style=\"text-align: right;\">\n      <th></th>\n      <th>overall</th>\n      <th>reviewTime</th>\n      <th>day_diff</th>\n      <th>helpful_yes</th>\n      <th>helpful_no</th>\n      <th>total_vote</th>\n      <th>score_pos_neg_diff</th>\n      <th>score_average_rating</th>\n      <th>wilson_lower_bound</th>\n    </tr>\n  </thead>\n  <tbody>\n    <tr>\n      <th>2031</th>\n      <td>5.00000</td>\n      <td>2013-01-05</td>\n      <td>702</td>\n      <td>1952</td>\n      <td>68</td>\n      <td>2020</td>\n      <td>1884</td>\n      <td>0.96634</td>\n      <td>0.95754</td>\n    </tr>\n    <tr>\n      <th>3449</th>\n      <td>5.00000</td>\n      <td>2012-09-26</td>\n      <td>803</td>\n      <td>1428</td>\n      <td>77</td>\n      <td>1505</td>\n      <td>1351</td>\n      <td>0.94884</td>\n      <td>0.93652</td>\n    </tr>\n    <tr>\n      <th>4212</th>\n      <td>1.00000</td>\n      <td>2013-05-08</td>\n      <td>579</td>\n      <td>1568</td>\n      <td>126</td>\n      <td>1694</td>\n      <td>1442</td>\n      <td>0.92562</td>\n      <td>0.91214</td>\n    </tr>\n    <tr>\n      <th>317</th>\n      <td>1.00000</td>\n      <td>2012-02-09</td>\n      <td>1033</td>\n      <td>422</td>\n      <td>73</td>\n      <td>495</td>\n      <td>349</td>\n      <td>0.85253</td>\n      <td>0.81858</td>\n    </tr>\n    <tr>\n      <th>4672</th>\n      <td>5.00000</td>\n      <td>2014-07-03</td>\n      <td>158</td>\n      <td>45</td>\n      <td>4</td>\n      <td>49</td>\n      <td>41</td>\n      <td>0.91837</td>\n      <td>0.80811</td>\n    </tr>\n    <tr>\n      <th>1835</th>\n      <td>5.00000</td>\n      <td>2014-02-28</td>\n      <td>283</td>\n      <td>60</td>\n      <td>8</td>\n      <td>68</td>\n      <td>52</td>\n      <td>0.88235</td>\n      <td>0.78465</td>\n    </tr>\n    <tr>\n      <th>3981</th>\n      <td>5.00000</td>\n      <td>2012-10-22</td>\n      <td>777</td>\n      <td>112</td>\n      <td>27</td>\n      <td>139</td>\n      <td>85</td>\n      <td>0.80576</td>\n      <td>0.73214</td>\n    </tr>\n    <tr>\n      <th>3807</th>\n      <td>3.00000</td>\n      <td>2013-02-27</td>\n      <td>649</td>\n      <td>22</td>\n      <td>3</td>\n      <td>25</td>\n      <td>19</td>\n      <td>0.88000</td>\n      <td>0.70044</td>\n    </tr>\n    <tr>\n      <th>4306</th>\n      <td>5.00000</td>\n      <td>2012-09-06</td>\n      <td>823</td>\n      <td>51</td>\n      <td>14</td>\n      <td>65</td>\n      <td>37</td>\n      <td>0.78462</td>\n      <td>0.67033</td>\n    </tr>\n    <tr>\n      <th>4596</th>\n      <td>1.00000</td>\n      <td>2012-09-22</td>\n      <td>807</td>\n      <td>82</td>\n      <td>27</td>\n      <td>109</td>\n      <td>55</td>\n      <td>0.75229</td>\n      <td>0.66359</td>\n    </tr>\n    <tr>\n      <th>315</th>\n      <td>5.00000</td>\n      <td>2012-08-13</td>\n      <td>847</td>\n      <td>38</td>\n      <td>10</td>\n      <td>48</td>\n      <td>28</td>\n      <td>0.79167</td>\n      <td>0.65741</td>\n    </tr>\n    <tr>\n      <th>1465</th>\n      <td>4.00000</td>\n      <td>2014-04-14</td>\n      <td>238</td>\n      <td>7</td>\n      <td>0</td>\n      <td>7</td>\n      <td>7</td>\n      <td>1.00000</td>\n      <td>0.64567</td>\n    </tr>\n    <tr>\n      <th>1609</th>\n      <td>5.00000</td>\n      <td>2014-03-26</td>\n      <td>257</td>\n      <td>7</td>\n      <td>0</td>\n      <td>7</td>\n      <td>7</td>\n      <td>1.00000</td>\n      <td>0.64567</td>\n    </tr>\n    <tr>\n      <th>4302</th>\n      <td>5.00000</td>\n      <td>2014-03-21</td>\n      <td>262</td>\n      <td>14</td>\n      <td>2</td>\n      <td>16</td>\n      <td>12</td>\n      <td>0.87500</td>\n      <td>0.63977</td>\n    </tr>\n    <tr>\n      <th>4072</th>\n      <td>5.00000</td>\n      <td>2012-11-09</td>\n      <td>759</td>\n      <td>6</td>\n      <td>0</td>\n      <td>6</td>\n      <td>6</td>\n      <td>1.00000</td>\n      <td>0.60967</td>\n    </tr>\n    <tr>\n      <th>1072</th>\n      <td>5.00000</td>\n      <td>2012-05-10</td>\n      <td>942</td>\n      <td>5</td>\n      <td>0</td>\n      <td>5</td>\n      <td>5</td>\n      <td>1.00000</td>\n      <td>0.56552</td>\n    </tr>\n    <tr>\n      <th>2583</th>\n      <td>5.00000</td>\n      <td>2013-08-06</td>\n      <td>489</td>\n      <td>5</td>\n      <td>0</td>\n      <td>5</td>\n      <td>5</td>\n      <td>1.00000</td>\n      <td>0.56552</td>\n    </tr>\n    <tr>\n      <th>121</th>\n      <td>5.00000</td>\n      <td>2012-05-09</td>\n      <td>943</td>\n      <td>5</td>\n      <td>0</td>\n      <td>5</td>\n      <td>5</td>\n      <td>1.00000</td>\n      <td>0.56552</td>\n    </tr>\n    <tr>\n      <th>1142</th>\n      <td>5.00000</td>\n      <td>2014-02-04</td>\n      <td>307</td>\n      <td>5</td>\n      <td>0</td>\n      <td>5</td>\n      <td>5</td>\n      <td>1.00000</td>\n      <td>0.56552</td>\n    </tr>\n    <tr>\n      <th>1753</th>\n      <td>5.00000</td>\n      <td>2012-10-22</td>\n      <td>777</td>\n      <td>5</td>\n      <td>0</td>\n      <td>5</td>\n      <td>5</td>\n      <td>1.00000</td>\n      <td>0.56552</td>\n    </tr>\n  </tbody>\n</table>\n</div>"
     },
     "execution_count": 36,
     "metadata": {},
     "output_type": "execute_result"
    }
   ],
   "source": [
    "df.sort_values(\"wilson_lower_bound\", ascending=False).head(20)"
   ],
   "metadata": {
    "collapsed": false
   }
  }
 ],
 "metadata": {
  "kernelspec": {
   "display_name": "Python 3",
   "language": "python",
   "name": "python3"
  },
  "language_info": {
   "codemirror_mode": {
    "name": "ipython",
    "version": 2
   },
   "file_extension": ".py",
   "mimetype": "text/x-python",
   "name": "python",
   "nbconvert_exporter": "python",
   "pygments_lexer": "ipython2",
   "version": "2.7.6"
  }
 },
 "nbformat": 4,
 "nbformat_minor": 0
}
