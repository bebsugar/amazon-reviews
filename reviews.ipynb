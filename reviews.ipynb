{
 "cells": [
  {
   "cell_type": "code",
   "execution_count": 1,
   "metadata": {
    "collapsed": true
   },
   "outputs": [],
   "source": [
    "#Rating Product & Sorting Reviews in Amazon"
   ]
  },
  {
   "cell_type": "code",
   "execution_count": 2,
   "outputs": [],
   "source": [
    "import matplotlib.pyplot as plt\n",
    "import pandas as pd\n",
    "import scipy.stats as st\n",
    "import math\n",
    "import warnings\n",
    "warnings.filterwarnings('ignore')\n",
    "\n",
    "pd.set_option('display.max_rows', None)\n",
    "pd.set_option('display.max_columns', None)\n",
    "pd.set_option('display.width', 500)\n",
    "pd.set_option('display.expand_frame_repr', False)\n",
    "pd.set_option('display.float_format', lambda x: '%.5f' % x)"
   ],
   "metadata": {
    "collapsed": false
   }
  },
  {
   "cell_type": "code",
   "execution_count": 3,
   "outputs": [],
   "source": [
    "df = pd.read_csv('amazon_review.csv')"
   ],
   "metadata": {
    "collapsed": false
   }
  },
  {
   "cell_type": "code",
   "execution_count": 4,
   "outputs": [
    {
     "data": {
      "text/plain": "(4915, 12)"
     },
     "execution_count": 4,
     "metadata": {},
     "output_type": "execute_result"
    }
   ],
   "source": [
    "df.shape"
   ],
   "metadata": {
    "collapsed": false
   }
  },
  {
   "cell_type": "code",
   "execution_count": 5,
   "outputs": [
    {
     "data": {
      "text/plain": "reviewerID         object\nasin               object\nreviewerName       object\nhelpful            object\nreviewText         object\noverall           float64\nsummary            object\nunixReviewTime      int64\nreviewTime         object\nday_diff            int64\nhelpful_yes         int64\ntotal_vote          int64\ndtype: object"
     },
     "execution_count": 5,
     "metadata": {},
     "output_type": "execute_result"
    }
   ],
   "source": [
    "df.dtypes"
   ],
   "metadata": {
    "collapsed": false
   }
  },
  {
   "cell_type": "code",
   "execution_count": 6,
   "outputs": [
    {
     "data": {
      "text/plain": "       reviewerID        asin  reviewerName helpful                                         reviewText  overall                                 summary  unixReviewTime  reviewTime  day_diff  helpful_yes  total_vote\n0  A3SBTW3WS4IQSN  B007WTAJTO           NaN  [0, 0]                                         No issues.  4.00000                              Four Stars      1406073600  2014-07-23       138            0           0\n1  A18K1ODH1I2MVB  B007WTAJTO          0mie  [0, 0]  Purchased this for my device, it worked as adv...  5.00000                           MOAR SPACE!!!      1382659200  2013-10-25       409            0           0\n2  A2FII3I2MBMUIA  B007WTAJTO           1K3  [0, 0]  it works as expected. I should have sprung for...  4.00000               nothing to really say....      1356220800  2012-12-23       715            0           0\n3   A3H99DFEG68SR  B007WTAJTO           1m2  [0, 0]  This think has worked out great.Had a diff. br...  5.00000  Great buy at this price!!!  *** UPDATE      1384992000  2013-11-21       382            0           0\n4  A375ZM4U047O79  B007WTAJTO  2&amp;1/2Men  [0, 0]  Bought it with Retail Packaging, arrived legit...  5.00000                        best deal around      1373673600  2013-07-13       513            0           0",
      "text/html": "<div>\n<style scoped>\n    .dataframe tbody tr th:only-of-type {\n        vertical-align: middle;\n    }\n\n    .dataframe tbody tr th {\n        vertical-align: top;\n    }\n\n    .dataframe thead th {\n        text-align: right;\n    }\n</style>\n<table border=\"1\" class=\"dataframe\">\n  <thead>\n    <tr style=\"text-align: right;\">\n      <th></th>\n      <th>reviewerID</th>\n      <th>asin</th>\n      <th>reviewerName</th>\n      <th>helpful</th>\n      <th>reviewText</th>\n      <th>overall</th>\n      <th>summary</th>\n      <th>unixReviewTime</th>\n      <th>reviewTime</th>\n      <th>day_diff</th>\n      <th>helpful_yes</th>\n      <th>total_vote</th>\n    </tr>\n  </thead>\n  <tbody>\n    <tr>\n      <th>0</th>\n      <td>A3SBTW3WS4IQSN</td>\n      <td>B007WTAJTO</td>\n      <td>NaN</td>\n      <td>[0, 0]</td>\n      <td>No issues.</td>\n      <td>4.00000</td>\n      <td>Four Stars</td>\n      <td>1406073600</td>\n      <td>2014-07-23</td>\n      <td>138</td>\n      <td>0</td>\n      <td>0</td>\n    </tr>\n    <tr>\n      <th>1</th>\n      <td>A18K1ODH1I2MVB</td>\n      <td>B007WTAJTO</td>\n      <td>0mie</td>\n      <td>[0, 0]</td>\n      <td>Purchased this for my device, it worked as adv...</td>\n      <td>5.00000</td>\n      <td>MOAR SPACE!!!</td>\n      <td>1382659200</td>\n      <td>2013-10-25</td>\n      <td>409</td>\n      <td>0</td>\n      <td>0</td>\n    </tr>\n    <tr>\n      <th>2</th>\n      <td>A2FII3I2MBMUIA</td>\n      <td>B007WTAJTO</td>\n      <td>1K3</td>\n      <td>[0, 0]</td>\n      <td>it works as expected. I should have sprung for...</td>\n      <td>4.00000</td>\n      <td>nothing to really say....</td>\n      <td>1356220800</td>\n      <td>2012-12-23</td>\n      <td>715</td>\n      <td>0</td>\n      <td>0</td>\n    </tr>\n    <tr>\n      <th>3</th>\n      <td>A3H99DFEG68SR</td>\n      <td>B007WTAJTO</td>\n      <td>1m2</td>\n      <td>[0, 0]</td>\n      <td>This think has worked out great.Had a diff. br...</td>\n      <td>5.00000</td>\n      <td>Great buy at this price!!!  *** UPDATE</td>\n      <td>1384992000</td>\n      <td>2013-11-21</td>\n      <td>382</td>\n      <td>0</td>\n      <td>0</td>\n    </tr>\n    <tr>\n      <th>4</th>\n      <td>A375ZM4U047O79</td>\n      <td>B007WTAJTO</td>\n      <td>2&amp;amp;1/2Men</td>\n      <td>[0, 0]</td>\n      <td>Bought it with Retail Packaging, arrived legit...</td>\n      <td>5.00000</td>\n      <td>best deal around</td>\n      <td>1373673600</td>\n      <td>2013-07-13</td>\n      <td>513</td>\n      <td>0</td>\n      <td>0</td>\n    </tr>\n  </tbody>\n</table>\n</div>"
     },
     "execution_count": 6,
     "metadata": {},
     "output_type": "execute_result"
    }
   ],
   "source": [
    "df.head()"
   ],
   "metadata": {
    "collapsed": false
   }
  },
  {
   "cell_type": "code",
   "execution_count": 7,
   "outputs": [
    {
     "data": {
      "text/plain": "          reviewerID        asin reviewerName helpful                                         reviewText  overall                        summary  unixReviewTime  reviewTime  day_diff  helpful_yes  total_vote\n4910  A2LBMKXRM5H2W9  B007WTAJTO       ZM \"J\"  [0, 0]  I bought this Sandisk 16GB Class 10 to use wit...  1.00000       Do not waste your money.      1374537600  2013-07-23       503            0           0\n4911   ALGDLRUI1ZPCS  B007WTAJTO           Zo  [0, 0]  Used this for extending the capabilities of my...  5.00000                    Great item!      1377129600  2013-08-22       473            0           0\n4912  A2MR1NI0ENW2AD  B007WTAJTO    Z S Liske  [0, 0]  Great card that is very fast and reliable. It ...  5.00000  Fast and reliable memory card      1396224000  2014-03-31       252            0           0\n4913  A37E6P3DSO9QJD  B007WTAJTO     Z Taylor  [0, 0]  Good amount of space for the stuff I want to d...  5.00000              Great little card      1379289600  2013-09-16       448            0           0\n4914   A8KGFTFQ86IBR  B007WTAJTO          Zza  [0, 0]  I've heard bad things about this 64gb Micro SD...  5.00000                So far so good.      1388620800  2014-02-01       310            0           0",
      "text/html": "<div>\n<style scoped>\n    .dataframe tbody tr th:only-of-type {\n        vertical-align: middle;\n    }\n\n    .dataframe tbody tr th {\n        vertical-align: top;\n    }\n\n    .dataframe thead th {\n        text-align: right;\n    }\n</style>\n<table border=\"1\" class=\"dataframe\">\n  <thead>\n    <tr style=\"text-align: right;\">\n      <th></th>\n      <th>reviewerID</th>\n      <th>asin</th>\n      <th>reviewerName</th>\n      <th>helpful</th>\n      <th>reviewText</th>\n      <th>overall</th>\n      <th>summary</th>\n      <th>unixReviewTime</th>\n      <th>reviewTime</th>\n      <th>day_diff</th>\n      <th>helpful_yes</th>\n      <th>total_vote</th>\n    </tr>\n  </thead>\n  <tbody>\n    <tr>\n      <th>4910</th>\n      <td>A2LBMKXRM5H2W9</td>\n      <td>B007WTAJTO</td>\n      <td>ZM \"J\"</td>\n      <td>[0, 0]</td>\n      <td>I bought this Sandisk 16GB Class 10 to use wit...</td>\n      <td>1.00000</td>\n      <td>Do not waste your money.</td>\n      <td>1374537600</td>\n      <td>2013-07-23</td>\n      <td>503</td>\n      <td>0</td>\n      <td>0</td>\n    </tr>\n    <tr>\n      <th>4911</th>\n      <td>ALGDLRUI1ZPCS</td>\n      <td>B007WTAJTO</td>\n      <td>Zo</td>\n      <td>[0, 0]</td>\n      <td>Used this for extending the capabilities of my...</td>\n      <td>5.00000</td>\n      <td>Great item!</td>\n      <td>1377129600</td>\n      <td>2013-08-22</td>\n      <td>473</td>\n      <td>0</td>\n      <td>0</td>\n    </tr>\n    <tr>\n      <th>4912</th>\n      <td>A2MR1NI0ENW2AD</td>\n      <td>B007WTAJTO</td>\n      <td>Z S Liske</td>\n      <td>[0, 0]</td>\n      <td>Great card that is very fast and reliable. It ...</td>\n      <td>5.00000</td>\n      <td>Fast and reliable memory card</td>\n      <td>1396224000</td>\n      <td>2014-03-31</td>\n      <td>252</td>\n      <td>0</td>\n      <td>0</td>\n    </tr>\n    <tr>\n      <th>4913</th>\n      <td>A37E6P3DSO9QJD</td>\n      <td>B007WTAJTO</td>\n      <td>Z Taylor</td>\n      <td>[0, 0]</td>\n      <td>Good amount of space for the stuff I want to d...</td>\n      <td>5.00000</td>\n      <td>Great little card</td>\n      <td>1379289600</td>\n      <td>2013-09-16</td>\n      <td>448</td>\n      <td>0</td>\n      <td>0</td>\n    </tr>\n    <tr>\n      <th>4914</th>\n      <td>A8KGFTFQ86IBR</td>\n      <td>B007WTAJTO</td>\n      <td>Zza</td>\n      <td>[0, 0]</td>\n      <td>I've heard bad things about this 64gb Micro SD...</td>\n      <td>5.00000</td>\n      <td>So far so good.</td>\n      <td>1388620800</td>\n      <td>2014-02-01</td>\n      <td>310</td>\n      <td>0</td>\n      <td>0</td>\n    </tr>\n  </tbody>\n</table>\n</div>"
     },
     "execution_count": 7,
     "metadata": {},
     "output_type": "execute_result"
    }
   ],
   "source": [
    "df.tail()"
   ],
   "metadata": {
    "collapsed": false
   }
  },
  {
   "cell_type": "code",
   "execution_count": 8,
   "outputs": [
    {
     "data": {
      "text/plain": "          reviewerID        asin              reviewerName helpful                                         reviewText  overall                     summary  unixReviewTime  reviewTime  day_diff  helpful_yes  total_vote\n4727   A59DOB4UY2K9T  B007WTAJTO                  villapoo  [2, 2]  Bought this for Samsung Galaxy S3 in Fall 2012...  3.00000  Awesome when not defective      1368403200  2013-05-13       574            2           2\n2648   ATOPUFCOM0M55  B007WTAJTO          Kenneth Kirkland  [0, 0]  its geniune and performs as expected in my ASU...  5.00000    Does whatits supposed to      1353369600  2012-11-20       748            0           0\n2810  A150UYJPK6KBKO  B007WTAJTO                 LeDerrius  [0, 0]  Don't really use this for speed tests or anyth...  4.00000                        Nice      1388448000  2013-12-31       342            0           0\n2740  A23FM0S3J3JYAL  B007WTAJTO  KRISTOFFER FEATHERINGHAM  [0, 0]  Had had this for about 6 months now and it's i...  5.00000          Simple and easy...      1389052800  2014-07-01       160            0           0\n4354   AXHPIBNP15GL8  B007WTAJTO                Steveotech  [1, 2]  I bought this on October 9th and didn't start ...  1.00000       Time to shop Kingston      1354665600  2012-05-12       940            1           2",
      "text/html": "<div>\n<style scoped>\n    .dataframe tbody tr th:only-of-type {\n        vertical-align: middle;\n    }\n\n    .dataframe tbody tr th {\n        vertical-align: top;\n    }\n\n    .dataframe thead th {\n        text-align: right;\n    }\n</style>\n<table border=\"1\" class=\"dataframe\">\n  <thead>\n    <tr style=\"text-align: right;\">\n      <th></th>\n      <th>reviewerID</th>\n      <th>asin</th>\n      <th>reviewerName</th>\n      <th>helpful</th>\n      <th>reviewText</th>\n      <th>overall</th>\n      <th>summary</th>\n      <th>unixReviewTime</th>\n      <th>reviewTime</th>\n      <th>day_diff</th>\n      <th>helpful_yes</th>\n      <th>total_vote</th>\n    </tr>\n  </thead>\n  <tbody>\n    <tr>\n      <th>4727</th>\n      <td>A59DOB4UY2K9T</td>\n      <td>B007WTAJTO</td>\n      <td>villapoo</td>\n      <td>[2, 2]</td>\n      <td>Bought this for Samsung Galaxy S3 in Fall 2012...</td>\n      <td>3.00000</td>\n      <td>Awesome when not defective</td>\n      <td>1368403200</td>\n      <td>2013-05-13</td>\n      <td>574</td>\n      <td>2</td>\n      <td>2</td>\n    </tr>\n    <tr>\n      <th>2648</th>\n      <td>ATOPUFCOM0M55</td>\n      <td>B007WTAJTO</td>\n      <td>Kenneth Kirkland</td>\n      <td>[0, 0]</td>\n      <td>its geniune and performs as expected in my ASU...</td>\n      <td>5.00000</td>\n      <td>Does whatits supposed to</td>\n      <td>1353369600</td>\n      <td>2012-11-20</td>\n      <td>748</td>\n      <td>0</td>\n      <td>0</td>\n    </tr>\n    <tr>\n      <th>2810</th>\n      <td>A150UYJPK6KBKO</td>\n      <td>B007WTAJTO</td>\n      <td>LeDerrius</td>\n      <td>[0, 0]</td>\n      <td>Don't really use this for speed tests or anyth...</td>\n      <td>4.00000</td>\n      <td>Nice</td>\n      <td>1388448000</td>\n      <td>2013-12-31</td>\n      <td>342</td>\n      <td>0</td>\n      <td>0</td>\n    </tr>\n    <tr>\n      <th>2740</th>\n      <td>A23FM0S3J3JYAL</td>\n      <td>B007WTAJTO</td>\n      <td>KRISTOFFER FEATHERINGHAM</td>\n      <td>[0, 0]</td>\n      <td>Had had this for about 6 months now and it's i...</td>\n      <td>5.00000</td>\n      <td>Simple and easy...</td>\n      <td>1389052800</td>\n      <td>2014-07-01</td>\n      <td>160</td>\n      <td>0</td>\n      <td>0</td>\n    </tr>\n    <tr>\n      <th>4354</th>\n      <td>AXHPIBNP15GL8</td>\n      <td>B007WTAJTO</td>\n      <td>Steveotech</td>\n      <td>[1, 2]</td>\n      <td>I bought this on October 9th and didn't start ...</td>\n      <td>1.00000</td>\n      <td>Time to shop Kingston</td>\n      <td>1354665600</td>\n      <td>2012-05-12</td>\n      <td>940</td>\n      <td>1</td>\n      <td>2</td>\n    </tr>\n  </tbody>\n</table>\n</div>"
     },
     "execution_count": 8,
     "metadata": {},
     "output_type": "execute_result"
    }
   ],
   "source": [
    "df.sample(5)"
   ],
   "metadata": {
    "collapsed": false
   }
  },
  {
   "cell_type": "code",
   "execution_count": 9,
   "outputs": [
    {
     "data": {
      "text/plain": "Index(['reviewerID', 'asin', 'reviewerName', 'helpful', 'reviewText', 'overall', 'summary', 'unixReviewTime', 'reviewTime', 'day_diff', 'helpful_yes', 'total_vote'], dtype='object')"
     },
     "execution_count": 9,
     "metadata": {},
     "output_type": "execute_result"
    }
   ],
   "source": [
    "df.columns"
   ],
   "metadata": {
    "collapsed": false
   }
  },
  {
   "cell_type": "code",
   "execution_count": 10,
   "outputs": [
    {
     "data": {
      "text/plain": "reviewerID        4915\nasin                 1\nreviewerName      4594\nhelpful             42\nreviewText        4912\noverall              5\nsummary           3885\nunixReviewTime     690\nreviewTime         690\nday_diff           690\nhelpful_yes         23\ntotal_vote          26\ndtype: int64"
     },
     "execution_count": 10,
     "metadata": {},
     "output_type": "execute_result"
    }
   ],
   "source": [
    "df.nunique()"
   ],
   "metadata": {
    "collapsed": false
   }
  },
  {
   "cell_type": "code",
   "execution_count": 11,
   "outputs": [
    {
     "data": {
      "text/plain": "reviewerID        0\nasin              0\nreviewerName      1\nhelpful           0\nreviewText        1\noverall           0\nsummary           0\nunixReviewTime    0\nreviewTime        0\nday_diff          0\nhelpful_yes       0\ntotal_vote        0\ndtype: int64"
     },
     "execution_count": 11,
     "metadata": {},
     "output_type": "execute_result"
    }
   ],
   "source": [
    "df.isnull().sum()"
   ],
   "metadata": {
    "collapsed": false
   }
  },
  {
   "cell_type": "code",
   "execution_count": 12,
   "outputs": [
    {
     "name": "stdout",
     "output_type": "stream",
     "text": [
      "                    count             mean            std              min               0%               5%              50%              95%              99%             100%              max\n",
      "overall        4915.00000          4.58759        0.99685          1.00000          1.00000          2.00000          5.00000          5.00000          5.00000          5.00000          5.00000\n",
      "unixReviewTime 4915.00000 1379465001.66836 15818574.32275 1339200000.00000 1339200000.00000 1354492800.00000 1381276800.00000 1403308800.00000 1404950400.00000 1406073600.00000 1406073600.00000\n",
      "day_diff       4915.00000        437.36704      209.43987          1.00000          1.00000         98.00000        431.00000        748.00000        943.00000       1064.00000       1064.00000\n",
      "helpful_yes    4915.00000          1.31109       41.61916          0.00000          0.00000          0.00000          0.00000          1.00000          3.00000       1952.00000       1952.00000\n",
      "total_vote     4915.00000          1.52146       44.12309          0.00000          0.00000          0.00000          0.00000          1.00000          4.00000       2020.00000       2020.00000\n"
     ]
    }
   ],
   "source": [
    "print(df.describe([0, 0.05, 0.50, 0.95, 0.99, 1]).T)"
   ],
   "metadata": {
    "collapsed": false
   }
  },
  {
   "cell_type": "code",
   "execution_count": 13,
   "outputs": [
    {
     "name": "stdout",
     "output_type": "stream",
     "text": [
      "<class 'pandas.core.frame.DataFrame'>\n",
      "RangeIndex: 4915 entries, 0 to 4914\n",
      "Data columns (total 12 columns):\n",
      " #   Column          Non-Null Count  Dtype  \n",
      "---  ------          --------------  -----  \n",
      " 0   reviewerID      4915 non-null   object \n",
      " 1   asin            4915 non-null   object \n",
      " 2   reviewerName    4914 non-null   object \n",
      " 3   helpful         4915 non-null   object \n",
      " 4   reviewText      4914 non-null   object \n",
      " 5   overall         4915 non-null   float64\n",
      " 6   summary         4915 non-null   object \n",
      " 7   unixReviewTime  4915 non-null   int64  \n",
      " 8   reviewTime      4915 non-null   object \n",
      " 9   day_diff        4915 non-null   int64  \n",
      " 10  helpful_yes     4915 non-null   int64  \n",
      " 11  total_vote      4915 non-null   int64  \n",
      "dtypes: float64(1), int64(4), object(7)\n",
      "memory usage: 460.9+ KB\n"
     ]
    }
   ],
   "source": [
    "df.info()"
   ],
   "metadata": {
    "collapsed": false
   }
  },
  {
   "cell_type": "code",
   "execution_count": 14,
   "outputs": [
    {
     "data": {
      "text/plain": "4.587589013224822"
     },
     "execution_count": 14,
     "metadata": {},
     "output_type": "execute_result"
    }
   ],
   "source": [
    "df['overall'].mean()"
   ],
   "metadata": {
    "collapsed": false
   }
  },
  {
   "cell_type": "code",
   "execution_count": 15,
   "outputs": [],
   "source": [
    "df['reviewTime'] = pd.to_datetime(df['reviewTime'])"
   ],
   "metadata": {
    "collapsed": false
   }
  },
  {
   "cell_type": "code",
   "execution_count": 16,
   "outputs": [],
   "source": [
    "today_date = df.reviewTime.max()"
   ],
   "metadata": {
    "collapsed": false
   }
  },
  {
   "cell_type": "code",
   "execution_count": 17,
   "outputs": [],
   "source": [
    "df['diff_time'] = (today_date - df[\"reviewTime\"]).dt.days"
   ],
   "metadata": {
    "collapsed": false
   }
  },
  {
   "cell_type": "code",
   "execution_count": 18,
   "outputs": [
    {
     "data": {
      "text/plain": "       reviewerID        asin  reviewerName helpful                                         reviewText  overall                                 summary  unixReviewTime reviewTime  day_diff  helpful_yes  total_vote  diff_time\n0  A3SBTW3WS4IQSN  B007WTAJTO           NaN  [0, 0]                                         No issues.  4.00000                              Four Stars      1406073600 2014-07-23       138            0           0        137\n1  A18K1ODH1I2MVB  B007WTAJTO          0mie  [0, 0]  Purchased this for my device, it worked as adv...  5.00000                           MOAR SPACE!!!      1382659200 2013-10-25       409            0           0        408\n2  A2FII3I2MBMUIA  B007WTAJTO           1K3  [0, 0]  it works as expected. I should have sprung for...  4.00000               nothing to really say....      1356220800 2012-12-23       715            0           0        714\n3   A3H99DFEG68SR  B007WTAJTO           1m2  [0, 0]  This think has worked out great.Had a diff. br...  5.00000  Great buy at this price!!!  *** UPDATE      1384992000 2013-11-21       382            0           0        381\n4  A375ZM4U047O79  B007WTAJTO  2&amp;1/2Men  [0, 0]  Bought it with Retail Packaging, arrived legit...  5.00000                        best deal around      1373673600 2013-07-13       513            0           0        512",
      "text/html": "<div>\n<style scoped>\n    .dataframe tbody tr th:only-of-type {\n        vertical-align: middle;\n    }\n\n    .dataframe tbody tr th {\n        vertical-align: top;\n    }\n\n    .dataframe thead th {\n        text-align: right;\n    }\n</style>\n<table border=\"1\" class=\"dataframe\">\n  <thead>\n    <tr style=\"text-align: right;\">\n      <th></th>\n      <th>reviewerID</th>\n      <th>asin</th>\n      <th>reviewerName</th>\n      <th>helpful</th>\n      <th>reviewText</th>\n      <th>overall</th>\n      <th>summary</th>\n      <th>unixReviewTime</th>\n      <th>reviewTime</th>\n      <th>day_diff</th>\n      <th>helpful_yes</th>\n      <th>total_vote</th>\n      <th>diff_time</th>\n    </tr>\n  </thead>\n  <tbody>\n    <tr>\n      <th>0</th>\n      <td>A3SBTW3WS4IQSN</td>\n      <td>B007WTAJTO</td>\n      <td>NaN</td>\n      <td>[0, 0]</td>\n      <td>No issues.</td>\n      <td>4.00000</td>\n      <td>Four Stars</td>\n      <td>1406073600</td>\n      <td>2014-07-23</td>\n      <td>138</td>\n      <td>0</td>\n      <td>0</td>\n      <td>137</td>\n    </tr>\n    <tr>\n      <th>1</th>\n      <td>A18K1ODH1I2MVB</td>\n      <td>B007WTAJTO</td>\n      <td>0mie</td>\n      <td>[0, 0]</td>\n      <td>Purchased this for my device, it worked as adv...</td>\n      <td>5.00000</td>\n      <td>MOAR SPACE!!!</td>\n      <td>1382659200</td>\n      <td>2013-10-25</td>\n      <td>409</td>\n      <td>0</td>\n      <td>0</td>\n      <td>408</td>\n    </tr>\n    <tr>\n      <th>2</th>\n      <td>A2FII3I2MBMUIA</td>\n      <td>B007WTAJTO</td>\n      <td>1K3</td>\n      <td>[0, 0]</td>\n      <td>it works as expected. I should have sprung for...</td>\n      <td>4.00000</td>\n      <td>nothing to really say....</td>\n      <td>1356220800</td>\n      <td>2012-12-23</td>\n      <td>715</td>\n      <td>0</td>\n      <td>0</td>\n      <td>714</td>\n    </tr>\n    <tr>\n      <th>3</th>\n      <td>A3H99DFEG68SR</td>\n      <td>B007WTAJTO</td>\n      <td>1m2</td>\n      <td>[0, 0]</td>\n      <td>This think has worked out great.Had a diff. br...</td>\n      <td>5.00000</td>\n      <td>Great buy at this price!!!  *** UPDATE</td>\n      <td>1384992000</td>\n      <td>2013-11-21</td>\n      <td>382</td>\n      <td>0</td>\n      <td>0</td>\n      <td>381</td>\n    </tr>\n    <tr>\n      <th>4</th>\n      <td>A375ZM4U047O79</td>\n      <td>B007WTAJTO</td>\n      <td>2&amp;amp;1/2Men</td>\n      <td>[0, 0]</td>\n      <td>Bought it with Retail Packaging, arrived legit...</td>\n      <td>5.00000</td>\n      <td>best deal around</td>\n      <td>1373673600</td>\n      <td>2013-07-13</td>\n      <td>513</td>\n      <td>0</td>\n      <td>0</td>\n      <td>512</td>\n    </tr>\n  </tbody>\n</table>\n</div>"
     },
     "execution_count": 18,
     "metadata": {},
     "output_type": "execute_result"
    }
   ],
   "source": [
    "df.head()"
   ],
   "metadata": {
    "collapsed": false
   }
  },
  {
   "cell_type": "code",
   "execution_count": 19,
   "outputs": [
    {
     "data": {
      "text/plain": "0.00000      0.00000\n0.10000    166.00000\n0.25000    280.00000\n0.50000    430.00000\n0.75000    600.00000\n0.95000    747.00000\n1.00000   1063.00000\nName: diff_time, dtype: float64"
     },
     "execution_count": 19,
     "metadata": {},
     "output_type": "execute_result"
    }
   ],
   "source": [
    "df['diff_time'].quantile([0, 0.1, 0.25, 0.5, 0.75, 0.95, 1])"
   ],
   "metadata": {
    "collapsed": false
   }
  },
  {
   "cell_type": "code",
   "execution_count": 20,
   "outputs": [],
   "source": [
    "def time_based_weighted_average(dataframe, w1=30, w2=28, w3=26, w4=16):\n",
    "    return dataframe.loc[df[\"diff_time\"] <= 250, \"overall\"].mean() * w1 / 100 + \\\n",
    "           dataframe.loc[(dataframe[\"diff_time\"] > 250) & (dataframe[\"diff_time\"] <= 500), \"overall\"].mean() * w2 / 100 + \\\n",
    "           dataframe.loc[(dataframe[\"diff_time\"] > 500) & (dataframe[\"diff_time\"] <= 750), \"overall\"].mean() * w3 / 100 + \\\n",
    "           dataframe.loc[(dataframe[\"diff_time\"] > 750), \"overall\"].mean() * w4 / 100"
   ],
   "metadata": {
    "collapsed": false
   }
  },
  {
   "cell_type": "code",
   "execution_count": 21,
   "outputs": [
    {
     "data": {
      "text/plain": "4.576037285044267"
     },
     "execution_count": 21,
     "metadata": {},
     "output_type": "execute_result"
    }
   ],
   "source": [
    "time_based_weighted_average(df)"
   ],
   "metadata": {
    "collapsed": false
   }
  },
  {
   "cell_type": "code",
   "execution_count": 22,
   "outputs": [
    {
     "data": {
      "text/plain": "4.684106614017769"
     },
     "execution_count": 22,
     "metadata": {},
     "output_type": "execute_result"
    }
   ],
   "source": [
    "df.loc[df[\"diff_time\"] <= 250, \"overall\"].mean()"
   ],
   "metadata": {
    "collapsed": false
   }
  },
  {
   "cell_type": "code",
   "execution_count": 23,
   "outputs": [
    {
     "data": {
      "text/plain": "4.624681285058643"
     },
     "execution_count": 23,
     "metadata": {},
     "output_type": "execute_result"
    }
   ],
   "source": [
    "df.loc[(df[\"diff_time\"] > 250) & (df[\"diff_time\"] <= 500), \"overall\"].mean()"
   ],
   "metadata": {
    "collapsed": false
   }
  },
  {
   "cell_type": "code",
   "execution_count": 24,
   "outputs": [
    {
     "data": {
      "text/plain": "4.5155607751027595"
     },
     "execution_count": 24,
     "metadata": {},
     "output_type": "execute_result"
    }
   ],
   "source": [
    "df.loc[(df[\"diff_time\"] > 500) & (df[\"diff_time\"] <= 750), \"overall\"].mean()"
   ],
   "metadata": {
    "collapsed": false
   }
  },
  {
   "cell_type": "code",
   "execution_count": 25,
   "outputs": [
    {
     "data": {
      "text/plain": "4.38655462184874"
     },
     "execution_count": 25,
     "metadata": {},
     "output_type": "execute_result"
    }
   ],
   "source": [
    "df.loc[df[\"diff_time\"] > 750, \"overall\"].mean()"
   ],
   "metadata": {
    "collapsed": false
   }
  },
  {
   "cell_type": "code",
   "execution_count": 26,
   "outputs": [],
   "source": [
    "df[\"helpful_no\"] = df[\"total_vote\"] - df[\"helpful_yes\"]"
   ],
   "metadata": {
    "collapsed": false
   }
  },
  {
   "cell_type": "code",
   "execution_count": 27,
   "outputs": [
    {
     "data": {
      "text/plain": "          reviewerID        asin                reviewerName helpful                                         reviewText  overall                                 summary  unixReviewTime reviewTime  day_diff  helpful_yes  total_vote  diff_time  helpful_no\n1859  A1VSGGV8TETMYD  B007WTAJTO             Gregg F. Carter  [0, 0]  Bought this for my ASUS TF700T Transformer tab...  5.00000                           Sweet microSD      1359417600 2013-01-29       678            0           0        677           0\n4286  A1B1VDFFC2N8PH  B007WTAJTO                 S. Rothrock  [0, 0]  These are excellent SD cards for phones, camer...  5.00000                           Great product      1356480000 2012-12-26       712            0           0        711           0\n1951  A28C8ZFBA0HSUQ  B007WTAJTO                       Heath  [0, 0]  Works as expected. Love the great price and us...  5.00000                            Great memory      1370476800 2013-06-06       550            0           0        549           0\n1484  A37FCNU3EY6LZM  B007WTAJTO                    D. Woods  [0, 0]  This mem card is fast and does exactly what is...  5.00000                       Great memory card      1368576000 2013-05-15       572            0           0        571           0\n3345  A36U8X10T0BFVJ  B007WTAJTO           M. Stanley Bubien  [2, 2]  My review is a little backwards&#8230; but I t...  5.00000  Watch Price - Great Card Often on Sale      1388966400 2014-06-01       190            2           2        189           0\n3487  A1LJMQNR9C9DEW  B007WTAJTO                        odey  [0, 0]                                           excelent  5.00000                              Five Stars      1404691200 2014-07-07       154            0           0        153           0\n3325  A2WH3SN2MODL54  B007WTAJTO       MR. MAV \"Maverickccs\"  [1, 3]  The only reason I give one star is that I cant...  1.00000              LOST ALL MY FILES IN MY S3      1398729600 2014-04-29       223            1           3        222           2\n3966  A1DRKQ4Q5MB6RJ  B007WTAJTO  Roy Samuel \"The Real Deal\"  [0, 0]  Lives up the billing of very fast data transfe...  5.00000        80GB on my Note 2? I'll take it!      1355184000 2012-11-12       756            0           0        755           0\n4859  A21HP6M30Q5PAA  B007WTAJTO                W.T. HAMPTON  [0, 0]  With the adapter I can easily use it in my cam...  5.00000                             VERSATILE !      1395619200 2014-03-24       259            0           0        258           0\n993   A34ET2WSQAFDG1  B007WTAJTO     Clay Sloan \"Chocolater\"  [0, 0]  I mean it's a 64gb memory card. The price was ...  5.00000             Big memory card, good price      1384992000 2013-11-21       382            0           0        381           0",
      "text/html": "<div>\n<style scoped>\n    .dataframe tbody tr th:only-of-type {\n        vertical-align: middle;\n    }\n\n    .dataframe tbody tr th {\n        vertical-align: top;\n    }\n\n    .dataframe thead th {\n        text-align: right;\n    }\n</style>\n<table border=\"1\" class=\"dataframe\">\n  <thead>\n    <tr style=\"text-align: right;\">\n      <th></th>\n      <th>reviewerID</th>\n      <th>asin</th>\n      <th>reviewerName</th>\n      <th>helpful</th>\n      <th>reviewText</th>\n      <th>overall</th>\n      <th>summary</th>\n      <th>unixReviewTime</th>\n      <th>reviewTime</th>\n      <th>day_diff</th>\n      <th>helpful_yes</th>\n      <th>total_vote</th>\n      <th>diff_time</th>\n      <th>helpful_no</th>\n    </tr>\n  </thead>\n  <tbody>\n    <tr>\n      <th>1859</th>\n      <td>A1VSGGV8TETMYD</td>\n      <td>B007WTAJTO</td>\n      <td>Gregg F. Carter</td>\n      <td>[0, 0]</td>\n      <td>Bought this for my ASUS TF700T Transformer tab...</td>\n      <td>5.00000</td>\n      <td>Sweet microSD</td>\n      <td>1359417600</td>\n      <td>2013-01-29</td>\n      <td>678</td>\n      <td>0</td>\n      <td>0</td>\n      <td>677</td>\n      <td>0</td>\n    </tr>\n    <tr>\n      <th>4286</th>\n      <td>A1B1VDFFC2N8PH</td>\n      <td>B007WTAJTO</td>\n      <td>S. Rothrock</td>\n      <td>[0, 0]</td>\n      <td>These are excellent SD cards for phones, camer...</td>\n      <td>5.00000</td>\n      <td>Great product</td>\n      <td>1356480000</td>\n      <td>2012-12-26</td>\n      <td>712</td>\n      <td>0</td>\n      <td>0</td>\n      <td>711</td>\n      <td>0</td>\n    </tr>\n    <tr>\n      <th>1951</th>\n      <td>A28C8ZFBA0HSUQ</td>\n      <td>B007WTAJTO</td>\n      <td>Heath</td>\n      <td>[0, 0]</td>\n      <td>Works as expected. Love the great price and us...</td>\n      <td>5.00000</td>\n      <td>Great memory</td>\n      <td>1370476800</td>\n      <td>2013-06-06</td>\n      <td>550</td>\n      <td>0</td>\n      <td>0</td>\n      <td>549</td>\n      <td>0</td>\n    </tr>\n    <tr>\n      <th>1484</th>\n      <td>A37FCNU3EY6LZM</td>\n      <td>B007WTAJTO</td>\n      <td>D. Woods</td>\n      <td>[0, 0]</td>\n      <td>This mem card is fast and does exactly what is...</td>\n      <td>5.00000</td>\n      <td>Great memory card</td>\n      <td>1368576000</td>\n      <td>2013-05-15</td>\n      <td>572</td>\n      <td>0</td>\n      <td>0</td>\n      <td>571</td>\n      <td>0</td>\n    </tr>\n    <tr>\n      <th>3345</th>\n      <td>A36U8X10T0BFVJ</td>\n      <td>B007WTAJTO</td>\n      <td>M. Stanley Bubien</td>\n      <td>[2, 2]</td>\n      <td>My review is a little backwards&amp;#8230; but I t...</td>\n      <td>5.00000</td>\n      <td>Watch Price - Great Card Often on Sale</td>\n      <td>1388966400</td>\n      <td>2014-06-01</td>\n      <td>190</td>\n      <td>2</td>\n      <td>2</td>\n      <td>189</td>\n      <td>0</td>\n    </tr>\n    <tr>\n      <th>3487</th>\n      <td>A1LJMQNR9C9DEW</td>\n      <td>B007WTAJTO</td>\n      <td>odey</td>\n      <td>[0, 0]</td>\n      <td>excelent</td>\n      <td>5.00000</td>\n      <td>Five Stars</td>\n      <td>1404691200</td>\n      <td>2014-07-07</td>\n      <td>154</td>\n      <td>0</td>\n      <td>0</td>\n      <td>153</td>\n      <td>0</td>\n    </tr>\n    <tr>\n      <th>3325</th>\n      <td>A2WH3SN2MODL54</td>\n      <td>B007WTAJTO</td>\n      <td>MR. MAV \"Maverickccs\"</td>\n      <td>[1, 3]</td>\n      <td>The only reason I give one star is that I cant...</td>\n      <td>1.00000</td>\n      <td>LOST ALL MY FILES IN MY S3</td>\n      <td>1398729600</td>\n      <td>2014-04-29</td>\n      <td>223</td>\n      <td>1</td>\n      <td>3</td>\n      <td>222</td>\n      <td>2</td>\n    </tr>\n    <tr>\n      <th>3966</th>\n      <td>A1DRKQ4Q5MB6RJ</td>\n      <td>B007WTAJTO</td>\n      <td>Roy Samuel \"The Real Deal\"</td>\n      <td>[0, 0]</td>\n      <td>Lives up the billing of very fast data transfe...</td>\n      <td>5.00000</td>\n      <td>80GB on my Note 2? I'll take it!</td>\n      <td>1355184000</td>\n      <td>2012-11-12</td>\n      <td>756</td>\n      <td>0</td>\n      <td>0</td>\n      <td>755</td>\n      <td>0</td>\n    </tr>\n    <tr>\n      <th>4859</th>\n      <td>A21HP6M30Q5PAA</td>\n      <td>B007WTAJTO</td>\n      <td>W.T. HAMPTON</td>\n      <td>[0, 0]</td>\n      <td>With the adapter I can easily use it in my cam...</td>\n      <td>5.00000</td>\n      <td>VERSATILE !</td>\n      <td>1395619200</td>\n      <td>2014-03-24</td>\n      <td>259</td>\n      <td>0</td>\n      <td>0</td>\n      <td>258</td>\n      <td>0</td>\n    </tr>\n    <tr>\n      <th>993</th>\n      <td>A34ET2WSQAFDG1</td>\n      <td>B007WTAJTO</td>\n      <td>Clay Sloan \"Chocolater\"</td>\n      <td>[0, 0]</td>\n      <td>I mean it's a 64gb memory card. The price was ...</td>\n      <td>5.00000</td>\n      <td>Big memory card, good price</td>\n      <td>1384992000</td>\n      <td>2013-11-21</td>\n      <td>382</td>\n      <td>0</td>\n      <td>0</td>\n      <td>381</td>\n      <td>0</td>\n    </tr>\n  </tbody>\n</table>\n</div>"
     },
     "execution_count": 27,
     "metadata": {},
     "output_type": "execute_result"
    }
   ],
   "source": [
    "df.sample(10)"
   ],
   "metadata": {
    "collapsed": false
   }
  },
  {
   "cell_type": "code",
   "execution_count": 28,
   "outputs": [
    {
     "data": {
      "text/plain": "   overall reviewTime  day_diff  helpful_yes  helpful_no  total_vote\n0  4.00000 2014-07-23       138            0           0           0\n1  5.00000 2013-10-25       409            0           0           0\n2  4.00000 2012-12-23       715            0           0           0\n3  5.00000 2013-11-21       382            0           0           0\n4  5.00000 2013-07-13       513            0           0           0",
      "text/html": "<div>\n<style scoped>\n    .dataframe tbody tr th:only-of-type {\n        vertical-align: middle;\n    }\n\n    .dataframe tbody tr th {\n        vertical-align: top;\n    }\n\n    .dataframe thead th {\n        text-align: right;\n    }\n</style>\n<table border=\"1\" class=\"dataframe\">\n  <thead>\n    <tr style=\"text-align: right;\">\n      <th></th>\n      <th>overall</th>\n      <th>reviewTime</th>\n      <th>day_diff</th>\n      <th>helpful_yes</th>\n      <th>helpful_no</th>\n      <th>total_vote</th>\n    </tr>\n  </thead>\n  <tbody>\n    <tr>\n      <th>0</th>\n      <td>4.00000</td>\n      <td>2014-07-23</td>\n      <td>138</td>\n      <td>0</td>\n      <td>0</td>\n      <td>0</td>\n    </tr>\n    <tr>\n      <th>1</th>\n      <td>5.00000</td>\n      <td>2013-10-25</td>\n      <td>409</td>\n      <td>0</td>\n      <td>0</td>\n      <td>0</td>\n    </tr>\n    <tr>\n      <th>2</th>\n      <td>4.00000</td>\n      <td>2012-12-23</td>\n      <td>715</td>\n      <td>0</td>\n      <td>0</td>\n      <td>0</td>\n    </tr>\n    <tr>\n      <th>3</th>\n      <td>5.00000</td>\n      <td>2013-11-21</td>\n      <td>382</td>\n      <td>0</td>\n      <td>0</td>\n      <td>0</td>\n    </tr>\n    <tr>\n      <th>4</th>\n      <td>5.00000</td>\n      <td>2013-07-13</td>\n      <td>513</td>\n      <td>0</td>\n      <td>0</td>\n      <td>0</td>\n    </tr>\n  </tbody>\n</table>\n</div>"
     },
     "execution_count": 28,
     "metadata": {},
     "output_type": "execute_result"
    }
   ],
   "source": [
    "df = df[[\"overall\", \"reviewTime\", \"day_diff\", \"helpful_yes\", \"helpful_no\",\"total_vote\"]]\n",
    "df.head()"
   ],
   "metadata": {
    "collapsed": false
   }
  },
  {
   "cell_type": "code",
   "execution_count": 29,
   "outputs": [],
   "source": [
    "def score_up_down_diff(up, down):\n",
    "    return up - down"
   ],
   "metadata": {
    "collapsed": false
   }
  },
  {
   "cell_type": "code",
   "execution_count": 30,
   "outputs": [],
   "source": [
    "def score_average_rating(up, down):\n",
    "    if up + down == 0:\n",
    "        return 0\n",
    "    return up / (up + down)"
   ],
   "metadata": {
    "collapsed": false
   }
  },
  {
   "cell_type": "code",
   "execution_count": 31,
   "outputs": [],
   "source": [
    "def wilson_lower_bound(up, down, confidence=0.95):\n",
    "    \"\"\"\n",
    "    Wilson Lower Bound Score hesapla\n",
    "\n",
    "    - Bernoulli parametresi p için hesaplanacak güven aralığının alt sınırı WLB skoru olarak kabul edilir.\n",
    "    - Hesaplanacak skor ürün sıralaması için kullanılır.\n",
    "    - Not:\n",
    "    Eğer skorlar 1-5 arasıdaysa 1-3 negatif, 4-5 pozitif olarak işaretlenir ve bernoulli'ye uygun hale getirilebilir.\n",
    "    Bu beraberinde bazı problemleri de getirir. Bu sebeple bayesian average rating yapmak gerekir.\n",
    "\n",
    "    Parameters\n",
    "    ----------\n",
    "    up: int\n",
    "        up count\n",
    "    down: int\n",
    "        down count\n",
    "    confidence: float\n",
    "        confidence\n",
    "\n",
    "    Returns\n",
    "    -------\n",
    "    wilson score: float\n",
    "\n",
    "    \"\"\"\n",
    "    n = up + down\n",
    "    if n == 0:\n",
    "        return 0\n",
    "    z = st.norm.ppf(1 - (1 - confidence) / 2)\n",
    "    phat = 1.0 * up / n\n",
    "    return (phat + z * z / (2 * n) - z * math.sqrt((phat * (1 - phat) + z * z / (4 * n)) / n)) / (1 + z * z / n)"
   ],
   "metadata": {
    "collapsed": false
   }
  },
  {
   "cell_type": "code",
   "execution_count": 32,
   "outputs": [],
   "source": [
    "df[\"score_pos_neg_diff\"] = df.apply(lambda x: score_up_down_diff(x[\"helpful_yes\"], x[\"helpful_no\"]), axis=1)"
   ],
   "metadata": {
    "collapsed": false
   }
  },
  {
   "cell_type": "code",
   "execution_count": 33,
   "outputs": [],
   "source": [
    "df[\"score_average_rating\"] = df.apply(lambda x: score_average_rating(x[\"helpful_yes\"], x[\"helpful_no\"]), axis=1)"
   ],
   "metadata": {
    "collapsed": false
   }
  },
  {
   "cell_type": "code",
   "execution_count": 34,
   "outputs": [],
   "source": [
    "df[\"wilson_lower_bound\"] = df.apply(lambda x: wilson_lower_bound(x[\"helpful_yes\"], x[\"helpful_no\"]), axis=1)"
   ],
   "metadata": {
    "collapsed": false
   }
  },
  {
   "cell_type": "code",
   "execution_count": 35,
   "outputs": [
    {
     "data": {
      "text/plain": "   overall reviewTime  day_diff  helpful_yes  helpful_no  total_vote  score_pos_neg_diff  score_average_rating  wilson_lower_bound\n0  4.00000 2014-07-23       138            0           0           0                   0               0.00000             0.00000\n1  5.00000 2013-10-25       409            0           0           0                   0               0.00000             0.00000\n2  4.00000 2012-12-23       715            0           0           0                   0               0.00000             0.00000\n3  5.00000 2013-11-21       382            0           0           0                   0               0.00000             0.00000\n4  5.00000 2013-07-13       513            0           0           0                   0               0.00000             0.00000",
      "text/html": "<div>\n<style scoped>\n    .dataframe tbody tr th:only-of-type {\n        vertical-align: middle;\n    }\n\n    .dataframe tbody tr th {\n        vertical-align: top;\n    }\n\n    .dataframe thead th {\n        text-align: right;\n    }\n</style>\n<table border=\"1\" class=\"dataframe\">\n  <thead>\n    <tr style=\"text-align: right;\">\n      <th></th>\n      <th>overall</th>\n      <th>reviewTime</th>\n      <th>day_diff</th>\n      <th>helpful_yes</th>\n      <th>helpful_no</th>\n      <th>total_vote</th>\n      <th>score_pos_neg_diff</th>\n      <th>score_average_rating</th>\n      <th>wilson_lower_bound</th>\n    </tr>\n  </thead>\n  <tbody>\n    <tr>\n      <th>0</th>\n      <td>4.00000</td>\n      <td>2014-07-23</td>\n      <td>138</td>\n      <td>0</td>\n      <td>0</td>\n      <td>0</td>\n      <td>0</td>\n      <td>0.00000</td>\n      <td>0.00000</td>\n    </tr>\n    <tr>\n      <th>1</th>\n      <td>5.00000</td>\n      <td>2013-10-25</td>\n      <td>409</td>\n      <td>0</td>\n      <td>0</td>\n      <td>0</td>\n      <td>0</td>\n      <td>0.00000</td>\n      <td>0.00000</td>\n    </tr>\n    <tr>\n      <th>2</th>\n      <td>4.00000</td>\n      <td>2012-12-23</td>\n      <td>715</td>\n      <td>0</td>\n      <td>0</td>\n      <td>0</td>\n      <td>0</td>\n      <td>0.00000</td>\n      <td>0.00000</td>\n    </tr>\n    <tr>\n      <th>3</th>\n      <td>5.00000</td>\n      <td>2013-11-21</td>\n      <td>382</td>\n      <td>0</td>\n      <td>0</td>\n      <td>0</td>\n      <td>0</td>\n      <td>0.00000</td>\n      <td>0.00000</td>\n    </tr>\n    <tr>\n      <th>4</th>\n      <td>5.00000</td>\n      <td>2013-07-13</td>\n      <td>513</td>\n      <td>0</td>\n      <td>0</td>\n      <td>0</td>\n      <td>0</td>\n      <td>0.00000</td>\n      <td>0.00000</td>\n    </tr>\n  </tbody>\n</table>\n</div>"
     },
     "execution_count": 35,
     "metadata": {},
     "output_type": "execute_result"
    }
   ],
   "source": [
    "df.head()"
   ],
   "metadata": {
    "collapsed": false
   }
  },
  {
   "cell_type": "code",
   "execution_count": 36,
   "outputs": [
    {
     "data": {
      "text/plain": "      overall reviewTime  day_diff  helpful_yes  helpful_no  total_vote  score_pos_neg_diff  score_average_rating  wilson_lower_bound\n2031  5.00000 2013-01-05       702         1952          68        2020                1884               0.96634             0.95754\n3449  5.00000 2012-09-26       803         1428          77        1505                1351               0.94884             0.93652\n4212  1.00000 2013-05-08       579         1568         126        1694                1442               0.92562             0.91214\n317   1.00000 2012-02-09      1033          422          73         495                 349               0.85253             0.81858\n4672  5.00000 2014-07-03       158           45           4          49                  41               0.91837             0.80811\n1835  5.00000 2014-02-28       283           60           8          68                  52               0.88235             0.78465\n3981  5.00000 2012-10-22       777          112          27         139                  85               0.80576             0.73214\n3807  3.00000 2013-02-27       649           22           3          25                  19               0.88000             0.70044\n4306  5.00000 2012-09-06       823           51          14          65                  37               0.78462             0.67033\n4596  1.00000 2012-09-22       807           82          27         109                  55               0.75229             0.66359\n315   5.00000 2012-08-13       847           38          10          48                  28               0.79167             0.65741\n1465  4.00000 2014-04-14       238            7           0           7                   7               1.00000             0.64567\n1609  5.00000 2014-03-26       257            7           0           7                   7               1.00000             0.64567\n4302  5.00000 2014-03-21       262           14           2          16                  12               0.87500             0.63977\n4072  5.00000 2012-11-09       759            6           0           6                   6               1.00000             0.60967\n1072  5.00000 2012-05-10       942            5           0           5                   5               1.00000             0.56552\n2583  5.00000 2013-08-06       489            5           0           5                   5               1.00000             0.56552\n121   5.00000 2012-05-09       943            5           0           5                   5               1.00000             0.56552\n1142  5.00000 2014-02-04       307            5           0           5                   5               1.00000             0.56552\n1753  5.00000 2012-10-22       777            5           0           5                   5               1.00000             0.56552",
      "text/html": "<div>\n<style scoped>\n    .dataframe tbody tr th:only-of-type {\n        vertical-align: middle;\n    }\n\n    .dataframe tbody tr th {\n        vertical-align: top;\n    }\n\n    .dataframe thead th {\n        text-align: right;\n    }\n</style>\n<table border=\"1\" class=\"dataframe\">\n  <thead>\n    <tr style=\"text-align: right;\">\n      <th></th>\n      <th>overall</th>\n      <th>reviewTime</th>\n      <th>day_diff</th>\n      <th>helpful_yes</th>\n      <th>helpful_no</th>\n      <th>total_vote</th>\n      <th>score_pos_neg_diff</th>\n      <th>score_average_rating</th>\n      <th>wilson_lower_bound</th>\n    </tr>\n  </thead>\n  <tbody>\n    <tr>\n      <th>2031</th>\n      <td>5.00000</td>\n      <td>2013-01-05</td>\n      <td>702</td>\n      <td>1952</td>\n      <td>68</td>\n      <td>2020</td>\n      <td>1884</td>\n      <td>0.96634</td>\n      <td>0.95754</td>\n    </tr>\n    <tr>\n      <th>3449</th>\n      <td>5.00000</td>\n      <td>2012-09-26</td>\n      <td>803</td>\n      <td>1428</td>\n      <td>77</td>\n      <td>1505</td>\n      <td>1351</td>\n      <td>0.94884</td>\n      <td>0.93652</td>\n    </tr>\n    <tr>\n      <th>4212</th>\n      <td>1.00000</td>\n      <td>2013-05-08</td>\n      <td>579</td>\n      <td>1568</td>\n      <td>126</td>\n      <td>1694</td>\n      <td>1442</td>\n      <td>0.92562</td>\n      <td>0.91214</td>\n    </tr>\n    <tr>\n      <th>317</th>\n      <td>1.00000</td>\n      <td>2012-02-09</td>\n      <td>1033</td>\n      <td>422</td>\n      <td>73</td>\n      <td>495</td>\n      <td>349</td>\n      <td>0.85253</td>\n      <td>0.81858</td>\n    </tr>\n    <tr>\n      <th>4672</th>\n      <td>5.00000</td>\n      <td>2014-07-03</td>\n      <td>158</td>\n      <td>45</td>\n      <td>4</td>\n      <td>49</td>\n      <td>41</td>\n      <td>0.91837</td>\n      <td>0.80811</td>\n    </tr>\n    <tr>\n      <th>1835</th>\n      <td>5.00000</td>\n      <td>2014-02-28</td>\n      <td>283</td>\n      <td>60</td>\n      <td>8</td>\n      <td>68</td>\n      <td>52</td>\n      <td>0.88235</td>\n      <td>0.78465</td>\n    </tr>\n    <tr>\n      <th>3981</th>\n      <td>5.00000</td>\n      <td>2012-10-22</td>\n      <td>777</td>\n      <td>112</td>\n      <td>27</td>\n      <td>139</td>\n      <td>85</td>\n      <td>0.80576</td>\n      <td>0.73214</td>\n    </tr>\n    <tr>\n      <th>3807</th>\n      <td>3.00000</td>\n      <td>2013-02-27</td>\n      <td>649</td>\n      <td>22</td>\n      <td>3</td>\n      <td>25</td>\n      <td>19</td>\n      <td>0.88000</td>\n      <td>0.70044</td>\n    </tr>\n    <tr>\n      <th>4306</th>\n      <td>5.00000</td>\n      <td>2012-09-06</td>\n      <td>823</td>\n      <td>51</td>\n      <td>14</td>\n      <td>65</td>\n      <td>37</td>\n      <td>0.78462</td>\n      <td>0.67033</td>\n    </tr>\n    <tr>\n      <th>4596</th>\n      <td>1.00000</td>\n      <td>2012-09-22</td>\n      <td>807</td>\n      <td>82</td>\n      <td>27</td>\n      <td>109</td>\n      <td>55</td>\n      <td>0.75229</td>\n      <td>0.66359</td>\n    </tr>\n    <tr>\n      <th>315</th>\n      <td>5.00000</td>\n      <td>2012-08-13</td>\n      <td>847</td>\n      <td>38</td>\n      <td>10</td>\n      <td>48</td>\n      <td>28</td>\n      <td>0.79167</td>\n      <td>0.65741</td>\n    </tr>\n    <tr>\n      <th>1465</th>\n      <td>4.00000</td>\n      <td>2014-04-14</td>\n      <td>238</td>\n      <td>7</td>\n      <td>0</td>\n      <td>7</td>\n      <td>7</td>\n      <td>1.00000</td>\n      <td>0.64567</td>\n    </tr>\n    <tr>\n      <th>1609</th>\n      <td>5.00000</td>\n      <td>2014-03-26</td>\n      <td>257</td>\n      <td>7</td>\n      <td>0</td>\n      <td>7</td>\n      <td>7</td>\n      <td>1.00000</td>\n      <td>0.64567</td>\n    </tr>\n    <tr>\n      <th>4302</th>\n      <td>5.00000</td>\n      <td>2014-03-21</td>\n      <td>262</td>\n      <td>14</td>\n      <td>2</td>\n      <td>16</td>\n      <td>12</td>\n      <td>0.87500</td>\n      <td>0.63977</td>\n    </tr>\n    <tr>\n      <th>4072</th>\n      <td>5.00000</td>\n      <td>2012-11-09</td>\n      <td>759</td>\n      <td>6</td>\n      <td>0</td>\n      <td>6</td>\n      <td>6</td>\n      <td>1.00000</td>\n      <td>0.60967</td>\n    </tr>\n    <tr>\n      <th>1072</th>\n      <td>5.00000</td>\n      <td>2012-05-10</td>\n      <td>942</td>\n      <td>5</td>\n      <td>0</td>\n      <td>5</td>\n      <td>5</td>\n      <td>1.00000</td>\n      <td>0.56552</td>\n    </tr>\n    <tr>\n      <th>2583</th>\n      <td>5.00000</td>\n      <td>2013-08-06</td>\n      <td>489</td>\n      <td>5</td>\n      <td>0</td>\n      <td>5</td>\n      <td>5</td>\n      <td>1.00000</td>\n      <td>0.56552</td>\n    </tr>\n    <tr>\n      <th>121</th>\n      <td>5.00000</td>\n      <td>2012-05-09</td>\n      <td>943</td>\n      <td>5</td>\n      <td>0</td>\n      <td>5</td>\n      <td>5</td>\n      <td>1.00000</td>\n      <td>0.56552</td>\n    </tr>\n    <tr>\n      <th>1142</th>\n      <td>5.00000</td>\n      <td>2014-02-04</td>\n      <td>307</td>\n      <td>5</td>\n      <td>0</td>\n      <td>5</td>\n      <td>5</td>\n      <td>1.00000</td>\n      <td>0.56552</td>\n    </tr>\n    <tr>\n      <th>1753</th>\n      <td>5.00000</td>\n      <td>2012-10-22</td>\n      <td>777</td>\n      <td>5</td>\n      <td>0</td>\n      <td>5</td>\n      <td>5</td>\n      <td>1.00000</td>\n      <td>0.56552</td>\n    </tr>\n  </tbody>\n</table>\n</div>"
     },
     "execution_count": 36,
     "metadata": {},
     "output_type": "execute_result"
    }
   ],
   "source": [
    "df.sort_values(\"wilson_lower_bound\", ascending=False).head(20)"
   ],
   "metadata": {
    "collapsed": false
   }
  }
 ],
 "metadata": {
  "kernelspec": {
   "display_name": "Python 3",
   "language": "python",
   "name": "python3"
  },
  "language_info": {
   "codemirror_mode": {
    "name": "ipython",
    "version": 2
   },
   "file_extension": ".py",
   "mimetype": "text/x-python",
   "name": "python",
   "nbconvert_exporter": "python",
   "pygments_lexer": "ipython2",
   "version": "2.7.6"
  }
 },
 "nbformat": 4,
 "nbformat_minor": 0
}
